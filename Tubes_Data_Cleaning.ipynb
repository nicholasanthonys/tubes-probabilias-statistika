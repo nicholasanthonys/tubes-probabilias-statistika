{
 "cells": [
  {
   "cell_type": "markdown",
   "metadata": {},
   "source": [
    "<h2>Kelompok: Edogawa Conan</h2>\n",
    "<p>1118014 - Mikhael Adriel<br>\n",
    "    1118015 - Ferani Christy<br>\n",
    "    1118020 - Albertus Kevin<br>\n",
    "    1118021 - Michelle Natasha Irawan<br>\n",
    "    1118038 -  Kevin Hartono<br>\n",
    "    1118049 - Nicholas Anthony<br>\n",
    "    1118056 - Fransiskus Richard</p>"
   ]
  },
  {
   "cell_type": "markdown",
   "metadata": {},
   "source": [
    "# Import Library and Dataset"
   ]
  },
  {
   "cell_type": "code",
   "execution_count": 2,
   "metadata": {
    "ExecuteTime": {
     "end_time": "2021-03-25T06:44:29.204485Z",
     "start_time": "2021-03-25T06:44:28.036442Z"
    }
   },
   "outputs": [],
   "source": [
    "import pandas as pd\n",
    "import numpy as np\n",
    "import seaborn as sns\n",
    "import matplotlib.pyplot as plt\n",
    "sns.set()"
   ]
  },
  {
   "cell_type": "code",
   "execution_count": 3,
   "metadata": {
    "ExecuteTime": {
     "end_time": "2021-03-25T06:44:29.299183Z",
     "start_time": "2021-03-25T06:44:29.206933Z"
    }
   },
   "outputs": [],
   "source": [
    "datacensus = pd.read_csv(\"datasets/adult.csv\")"
   ]
  },
  {
   "cell_type": "code",
   "execution_count": 4,
   "metadata": {
    "ExecuteTime": {
     "end_time": "2021-03-25T06:44:29.323091Z",
     "start_time": "2021-03-25T06:44:29.301629Z"
    }
   },
   "outputs": [
    {
     "data": {
      "text/html": [
       "<div>\n",
       "<style scoped>\n",
       "    .dataframe tbody tr th:only-of-type {\n",
       "        vertical-align: middle;\n",
       "    }\n",
       "\n",
       "    .dataframe tbody tr th {\n",
       "        vertical-align: top;\n",
       "    }\n",
       "\n",
       "    .dataframe thead th {\n",
       "        text-align: right;\n",
       "    }\n",
       "</style>\n",
       "<table border=\"1\" class=\"dataframe\">\n",
       "  <thead>\n",
       "    <tr style=\"text-align: right;\">\n",
       "      <th></th>\n",
       "      <th>age</th>\n",
       "      <th>workclass</th>\n",
       "      <th>fnlwgt</th>\n",
       "      <th>education</th>\n",
       "      <th>education.num</th>\n",
       "      <th>marital.status</th>\n",
       "      <th>occupation</th>\n",
       "      <th>relationship</th>\n",
       "      <th>race</th>\n",
       "      <th>sex</th>\n",
       "      <th>capital.gain</th>\n",
       "      <th>capital.loss</th>\n",
       "      <th>hours.per.week</th>\n",
       "      <th>native.country</th>\n",
       "      <th>income</th>\n",
       "    </tr>\n",
       "  </thead>\n",
       "  <tbody>\n",
       "    <tr>\n",
       "      <th>0</th>\n",
       "      <td>90</td>\n",
       "      <td>?</td>\n",
       "      <td>77053</td>\n",
       "      <td>HS-grad</td>\n",
       "      <td>9</td>\n",
       "      <td>Widowed</td>\n",
       "      <td>?</td>\n",
       "      <td>Not-in-family</td>\n",
       "      <td>White</td>\n",
       "      <td>Female</td>\n",
       "      <td>0</td>\n",
       "      <td>4356</td>\n",
       "      <td>40</td>\n",
       "      <td>United-States</td>\n",
       "      <td>&lt;=50K</td>\n",
       "    </tr>\n",
       "    <tr>\n",
       "      <th>1</th>\n",
       "      <td>82</td>\n",
       "      <td>Private</td>\n",
       "      <td>132870</td>\n",
       "      <td>HS-grad</td>\n",
       "      <td>9</td>\n",
       "      <td>Widowed</td>\n",
       "      <td>Exec-managerial</td>\n",
       "      <td>Not-in-family</td>\n",
       "      <td>White</td>\n",
       "      <td>Female</td>\n",
       "      <td>0</td>\n",
       "      <td>4356</td>\n",
       "      <td>18</td>\n",
       "      <td>United-States</td>\n",
       "      <td>&lt;=50K</td>\n",
       "    </tr>\n",
       "    <tr>\n",
       "      <th>2</th>\n",
       "      <td>66</td>\n",
       "      <td>?</td>\n",
       "      <td>186061</td>\n",
       "      <td>Some-college</td>\n",
       "      <td>10</td>\n",
       "      <td>Widowed</td>\n",
       "      <td>?</td>\n",
       "      <td>Unmarried</td>\n",
       "      <td>Black</td>\n",
       "      <td>Female</td>\n",
       "      <td>0</td>\n",
       "      <td>4356</td>\n",
       "      <td>40</td>\n",
       "      <td>United-States</td>\n",
       "      <td>&lt;=50K</td>\n",
       "    </tr>\n",
       "    <tr>\n",
       "      <th>3</th>\n",
       "      <td>54</td>\n",
       "      <td>Private</td>\n",
       "      <td>140359</td>\n",
       "      <td>7th-8th</td>\n",
       "      <td>4</td>\n",
       "      <td>Divorced</td>\n",
       "      <td>Machine-op-inspct</td>\n",
       "      <td>Unmarried</td>\n",
       "      <td>White</td>\n",
       "      <td>Female</td>\n",
       "      <td>0</td>\n",
       "      <td>3900</td>\n",
       "      <td>40</td>\n",
       "      <td>United-States</td>\n",
       "      <td>&lt;=50K</td>\n",
       "    </tr>\n",
       "    <tr>\n",
       "      <th>4</th>\n",
       "      <td>41</td>\n",
       "      <td>Private</td>\n",
       "      <td>264663</td>\n",
       "      <td>Some-college</td>\n",
       "      <td>10</td>\n",
       "      <td>Separated</td>\n",
       "      <td>Prof-specialty</td>\n",
       "      <td>Own-child</td>\n",
       "      <td>White</td>\n",
       "      <td>Female</td>\n",
       "      <td>0</td>\n",
       "      <td>3900</td>\n",
       "      <td>40</td>\n",
       "      <td>United-States</td>\n",
       "      <td>&lt;=50K</td>\n",
       "    </tr>\n",
       "  </tbody>\n",
       "</table>\n",
       "</div>"
      ],
      "text/plain": [
       "   age workclass  fnlwgt     education  education.num marital.status  \\\n",
       "0   90         ?   77053       HS-grad              9        Widowed   \n",
       "1   82   Private  132870       HS-grad              9        Widowed   \n",
       "2   66         ?  186061  Some-college             10        Widowed   \n",
       "3   54   Private  140359       7th-8th              4       Divorced   \n",
       "4   41   Private  264663  Some-college             10      Separated   \n",
       "\n",
       "          occupation   relationship   race     sex  capital.gain  \\\n",
       "0                  ?  Not-in-family  White  Female             0   \n",
       "1    Exec-managerial  Not-in-family  White  Female             0   \n",
       "2                  ?      Unmarried  Black  Female             0   \n",
       "3  Machine-op-inspct      Unmarried  White  Female             0   \n",
       "4     Prof-specialty      Own-child  White  Female             0   \n",
       "\n",
       "   capital.loss  hours.per.week native.country income  \n",
       "0          4356              40  United-States  <=50K  \n",
       "1          4356              18  United-States  <=50K  \n",
       "2          4356              40  United-States  <=50K  \n",
       "3          3900              40  United-States  <=50K  \n",
       "4          3900              40  United-States  <=50K  "
      ]
     },
     "execution_count": 4,
     "metadata": {},
     "output_type": "execute_result"
    }
   ],
   "source": [
    "datacensus.head()"
   ]
  },
  {
   "cell_type": "markdown",
   "metadata": {},
   "source": [
    "# Data Cleaning"
   ]
  },
  {
   "cell_type": "markdown",
   "metadata": {},
   "source": [
    "## Data Duplicate Cleaning"
   ]
  },
  {
   "cell_type": "code",
   "execution_count": 5,
   "metadata": {
    "ExecuteTime": {
     "end_time": "2021-03-25T06:44:29.380446Z",
     "start_time": "2021-03-25T06:44:29.325023Z"
    },
    "scrolled": true
   },
   "outputs": [
    {
     "data": {
      "text/html": [
       "<div>\n",
       "<style scoped>\n",
       "    .dataframe tbody tr th:only-of-type {\n",
       "        vertical-align: middle;\n",
       "    }\n",
       "\n",
       "    .dataframe tbody tr th {\n",
       "        vertical-align: top;\n",
       "    }\n",
       "\n",
       "    .dataframe thead th {\n",
       "        text-align: right;\n",
       "    }\n",
       "</style>\n",
       "<table border=\"1\" class=\"dataframe\">\n",
       "  <thead>\n",
       "    <tr style=\"text-align: right;\">\n",
       "      <th></th>\n",
       "      <th>age</th>\n",
       "      <th>workclass</th>\n",
       "      <th>fnlwgt</th>\n",
       "      <th>education</th>\n",
       "      <th>education.num</th>\n",
       "      <th>marital.status</th>\n",
       "      <th>occupation</th>\n",
       "      <th>relationship</th>\n",
       "      <th>race</th>\n",
       "      <th>sex</th>\n",
       "      <th>capital.gain</th>\n",
       "      <th>capital.loss</th>\n",
       "      <th>hours.per.week</th>\n",
       "      <th>native.country</th>\n",
       "      <th>income</th>\n",
       "    </tr>\n",
       "  </thead>\n",
       "  <tbody>\n",
       "    <tr>\n",
       "      <th>8453</th>\n",
       "      <td>25</td>\n",
       "      <td>Private</td>\n",
       "      <td>308144</td>\n",
       "      <td>Bachelors</td>\n",
       "      <td>13</td>\n",
       "      <td>Never-married</td>\n",
       "      <td>Craft-repair</td>\n",
       "      <td>Not-in-family</td>\n",
       "      <td>White</td>\n",
       "      <td>Male</td>\n",
       "      <td>0</td>\n",
       "      <td>0</td>\n",
       "      <td>40</td>\n",
       "      <td>Mexico</td>\n",
       "      <td>&lt;=50K</td>\n",
       "    </tr>\n",
       "    <tr>\n",
       "      <th>8645</th>\n",
       "      <td>90</td>\n",
       "      <td>Private</td>\n",
       "      <td>52386</td>\n",
       "      <td>Some-college</td>\n",
       "      <td>10</td>\n",
       "      <td>Never-married</td>\n",
       "      <td>Other-service</td>\n",
       "      <td>Not-in-family</td>\n",
       "      <td>Asian-Pac-Islander</td>\n",
       "      <td>Male</td>\n",
       "      <td>0</td>\n",
       "      <td>0</td>\n",
       "      <td>35</td>\n",
       "      <td>United-States</td>\n",
       "      <td>&lt;=50K</td>\n",
       "    </tr>\n",
       "    <tr>\n",
       "      <th>12202</th>\n",
       "      <td>21</td>\n",
       "      <td>Private</td>\n",
       "      <td>250051</td>\n",
       "      <td>Some-college</td>\n",
       "      <td>10</td>\n",
       "      <td>Never-married</td>\n",
       "      <td>Prof-specialty</td>\n",
       "      <td>Own-child</td>\n",
       "      <td>White</td>\n",
       "      <td>Female</td>\n",
       "      <td>0</td>\n",
       "      <td>0</td>\n",
       "      <td>10</td>\n",
       "      <td>United-States</td>\n",
       "      <td>&lt;=50K</td>\n",
       "    </tr>\n",
       "    <tr>\n",
       "      <th>14346</th>\n",
       "      <td>20</td>\n",
       "      <td>Private</td>\n",
       "      <td>107658</td>\n",
       "      <td>Some-college</td>\n",
       "      <td>10</td>\n",
       "      <td>Never-married</td>\n",
       "      <td>Tech-support</td>\n",
       "      <td>Not-in-family</td>\n",
       "      <td>White</td>\n",
       "      <td>Female</td>\n",
       "      <td>0</td>\n",
       "      <td>0</td>\n",
       "      <td>10</td>\n",
       "      <td>United-States</td>\n",
       "      <td>&lt;=50K</td>\n",
       "    </tr>\n",
       "    <tr>\n",
       "      <th>15603</th>\n",
       "      <td>25</td>\n",
       "      <td>Private</td>\n",
       "      <td>195994</td>\n",
       "      <td>1st-4th</td>\n",
       "      <td>2</td>\n",
       "      <td>Never-married</td>\n",
       "      <td>Priv-house-serv</td>\n",
       "      <td>Not-in-family</td>\n",
       "      <td>White</td>\n",
       "      <td>Female</td>\n",
       "      <td>0</td>\n",
       "      <td>0</td>\n",
       "      <td>40</td>\n",
       "      <td>Guatemala</td>\n",
       "      <td>&lt;=50K</td>\n",
       "    </tr>\n",
       "    <tr>\n",
       "      <th>17344</th>\n",
       "      <td>21</td>\n",
       "      <td>Private</td>\n",
       "      <td>243368</td>\n",
       "      <td>Preschool</td>\n",
       "      <td>1</td>\n",
       "      <td>Never-married</td>\n",
       "      <td>Farming-fishing</td>\n",
       "      <td>Not-in-family</td>\n",
       "      <td>White</td>\n",
       "      <td>Male</td>\n",
       "      <td>0</td>\n",
       "      <td>0</td>\n",
       "      <td>50</td>\n",
       "      <td>Mexico</td>\n",
       "      <td>&lt;=50K</td>\n",
       "    </tr>\n",
       "    <tr>\n",
       "      <th>19067</th>\n",
       "      <td>46</td>\n",
       "      <td>Private</td>\n",
       "      <td>173243</td>\n",
       "      <td>HS-grad</td>\n",
       "      <td>9</td>\n",
       "      <td>Married-civ-spouse</td>\n",
       "      <td>Craft-repair</td>\n",
       "      <td>Husband</td>\n",
       "      <td>White</td>\n",
       "      <td>Male</td>\n",
       "      <td>0</td>\n",
       "      <td>0</td>\n",
       "      <td>40</td>\n",
       "      <td>United-States</td>\n",
       "      <td>&lt;=50K</td>\n",
       "    </tr>\n",
       "    <tr>\n",
       "      <th>20388</th>\n",
       "      <td>30</td>\n",
       "      <td>Private</td>\n",
       "      <td>144593</td>\n",
       "      <td>HS-grad</td>\n",
       "      <td>9</td>\n",
       "      <td>Never-married</td>\n",
       "      <td>Other-service</td>\n",
       "      <td>Not-in-family</td>\n",
       "      <td>Black</td>\n",
       "      <td>Male</td>\n",
       "      <td>0</td>\n",
       "      <td>0</td>\n",
       "      <td>40</td>\n",
       "      <td>?</td>\n",
       "      <td>&lt;=50K</td>\n",
       "    </tr>\n",
       "    <tr>\n",
       "      <th>20507</th>\n",
       "      <td>19</td>\n",
       "      <td>Private</td>\n",
       "      <td>97261</td>\n",
       "      <td>HS-grad</td>\n",
       "      <td>9</td>\n",
       "      <td>Never-married</td>\n",
       "      <td>Farming-fishing</td>\n",
       "      <td>Not-in-family</td>\n",
       "      <td>White</td>\n",
       "      <td>Male</td>\n",
       "      <td>0</td>\n",
       "      <td>0</td>\n",
       "      <td>40</td>\n",
       "      <td>United-States</td>\n",
       "      <td>&lt;=50K</td>\n",
       "    </tr>\n",
       "    <tr>\n",
       "      <th>22783</th>\n",
       "      <td>19</td>\n",
       "      <td>Private</td>\n",
       "      <td>138153</td>\n",
       "      <td>Some-college</td>\n",
       "      <td>10</td>\n",
       "      <td>Never-married</td>\n",
       "      <td>Adm-clerical</td>\n",
       "      <td>Own-child</td>\n",
       "      <td>White</td>\n",
       "      <td>Female</td>\n",
       "      <td>0</td>\n",
       "      <td>0</td>\n",
       "      <td>10</td>\n",
       "      <td>United-States</td>\n",
       "      <td>&lt;=50K</td>\n",
       "    </tr>\n",
       "    <tr>\n",
       "      <th>22934</th>\n",
       "      <td>19</td>\n",
       "      <td>Private</td>\n",
       "      <td>146679</td>\n",
       "      <td>Some-college</td>\n",
       "      <td>10</td>\n",
       "      <td>Never-married</td>\n",
       "      <td>Exec-managerial</td>\n",
       "      <td>Own-child</td>\n",
       "      <td>Black</td>\n",
       "      <td>Male</td>\n",
       "      <td>0</td>\n",
       "      <td>0</td>\n",
       "      <td>30</td>\n",
       "      <td>United-States</td>\n",
       "      <td>&lt;=50K</td>\n",
       "    </tr>\n",
       "    <tr>\n",
       "      <th>23276</th>\n",
       "      <td>49</td>\n",
       "      <td>Private</td>\n",
       "      <td>31267</td>\n",
       "      <td>7th-8th</td>\n",
       "      <td>4</td>\n",
       "      <td>Married-civ-spouse</td>\n",
       "      <td>Craft-repair</td>\n",
       "      <td>Husband</td>\n",
       "      <td>White</td>\n",
       "      <td>Male</td>\n",
       "      <td>0</td>\n",
       "      <td>0</td>\n",
       "      <td>40</td>\n",
       "      <td>United-States</td>\n",
       "      <td>&lt;=50K</td>\n",
       "    </tr>\n",
       "    <tr>\n",
       "      <th>23660</th>\n",
       "      <td>25</td>\n",
       "      <td>Private</td>\n",
       "      <td>195994</td>\n",
       "      <td>1st-4th</td>\n",
       "      <td>2</td>\n",
       "      <td>Never-married</td>\n",
       "      <td>Priv-house-serv</td>\n",
       "      <td>Not-in-family</td>\n",
       "      <td>White</td>\n",
       "      <td>Female</td>\n",
       "      <td>0</td>\n",
       "      <td>0</td>\n",
       "      <td>40</td>\n",
       "      <td>Guatemala</td>\n",
       "      <td>&lt;=50K</td>\n",
       "    </tr>\n",
       "    <tr>\n",
       "      <th>23720</th>\n",
       "      <td>44</td>\n",
       "      <td>Private</td>\n",
       "      <td>367749</td>\n",
       "      <td>Bachelors</td>\n",
       "      <td>13</td>\n",
       "      <td>Never-married</td>\n",
       "      <td>Prof-specialty</td>\n",
       "      <td>Not-in-family</td>\n",
       "      <td>White</td>\n",
       "      <td>Female</td>\n",
       "      <td>0</td>\n",
       "      <td>0</td>\n",
       "      <td>45</td>\n",
       "      <td>Mexico</td>\n",
       "      <td>&lt;=50K</td>\n",
       "    </tr>\n",
       "    <tr>\n",
       "      <th>23827</th>\n",
       "      <td>49</td>\n",
       "      <td>Self-emp-not-inc</td>\n",
       "      <td>43479</td>\n",
       "      <td>Some-college</td>\n",
       "      <td>10</td>\n",
       "      <td>Married-civ-spouse</td>\n",
       "      <td>Craft-repair</td>\n",
       "      <td>Husband</td>\n",
       "      <td>White</td>\n",
       "      <td>Male</td>\n",
       "      <td>0</td>\n",
       "      <td>0</td>\n",
       "      <td>40</td>\n",
       "      <td>United-States</td>\n",
       "      <td>&lt;=50K</td>\n",
       "    </tr>\n",
       "    <tr>\n",
       "      <th>26738</th>\n",
       "      <td>23</td>\n",
       "      <td>Private</td>\n",
       "      <td>240137</td>\n",
       "      <td>5th-6th</td>\n",
       "      <td>3</td>\n",
       "      <td>Never-married</td>\n",
       "      <td>Handlers-cleaners</td>\n",
       "      <td>Not-in-family</td>\n",
       "      <td>White</td>\n",
       "      <td>Male</td>\n",
       "      <td>0</td>\n",
       "      <td>0</td>\n",
       "      <td>55</td>\n",
       "      <td>Mexico</td>\n",
       "      <td>&lt;=50K</td>\n",
       "    </tr>\n",
       "    <tr>\n",
       "      <th>27133</th>\n",
       "      <td>28</td>\n",
       "      <td>Private</td>\n",
       "      <td>274679</td>\n",
       "      <td>Masters</td>\n",
       "      <td>14</td>\n",
       "      <td>Never-married</td>\n",
       "      <td>Prof-specialty</td>\n",
       "      <td>Not-in-family</td>\n",
       "      <td>White</td>\n",
       "      <td>Male</td>\n",
       "      <td>0</td>\n",
       "      <td>0</td>\n",
       "      <td>50</td>\n",
       "      <td>United-States</td>\n",
       "      <td>&lt;=50K</td>\n",
       "    </tr>\n",
       "    <tr>\n",
       "      <th>28796</th>\n",
       "      <td>27</td>\n",
       "      <td>Private</td>\n",
       "      <td>255582</td>\n",
       "      <td>HS-grad</td>\n",
       "      <td>9</td>\n",
       "      <td>Never-married</td>\n",
       "      <td>Machine-op-inspct</td>\n",
       "      <td>Not-in-family</td>\n",
       "      <td>White</td>\n",
       "      <td>Female</td>\n",
       "      <td>0</td>\n",
       "      <td>0</td>\n",
       "      <td>40</td>\n",
       "      <td>United-States</td>\n",
       "      <td>&lt;=50K</td>\n",
       "    </tr>\n",
       "    <tr>\n",
       "      <th>29051</th>\n",
       "      <td>42</td>\n",
       "      <td>Private</td>\n",
       "      <td>204235</td>\n",
       "      <td>Some-college</td>\n",
       "      <td>10</td>\n",
       "      <td>Married-civ-spouse</td>\n",
       "      <td>Prof-specialty</td>\n",
       "      <td>Husband</td>\n",
       "      <td>White</td>\n",
       "      <td>Male</td>\n",
       "      <td>0</td>\n",
       "      <td>0</td>\n",
       "      <td>40</td>\n",
       "      <td>United-States</td>\n",
       "      <td>&gt;50K</td>\n",
       "    </tr>\n",
       "    <tr>\n",
       "      <th>29334</th>\n",
       "      <td>39</td>\n",
       "      <td>Private</td>\n",
       "      <td>30916</td>\n",
       "      <td>HS-grad</td>\n",
       "      <td>9</td>\n",
       "      <td>Married-civ-spouse</td>\n",
       "      <td>Craft-repair</td>\n",
       "      <td>Husband</td>\n",
       "      <td>White</td>\n",
       "      <td>Male</td>\n",
       "      <td>0</td>\n",
       "      <td>0</td>\n",
       "      <td>40</td>\n",
       "      <td>United-States</td>\n",
       "      <td>&lt;=50K</td>\n",
       "    </tr>\n",
       "    <tr>\n",
       "      <th>29604</th>\n",
       "      <td>38</td>\n",
       "      <td>Private</td>\n",
       "      <td>207202</td>\n",
       "      <td>HS-grad</td>\n",
       "      <td>9</td>\n",
       "      <td>Married-civ-spouse</td>\n",
       "      <td>Machine-op-inspct</td>\n",
       "      <td>Husband</td>\n",
       "      <td>White</td>\n",
       "      <td>Male</td>\n",
       "      <td>0</td>\n",
       "      <td>0</td>\n",
       "      <td>48</td>\n",
       "      <td>United-States</td>\n",
       "      <td>&gt;50K</td>\n",
       "    </tr>\n",
       "    <tr>\n",
       "      <th>31060</th>\n",
       "      <td>46</td>\n",
       "      <td>Private</td>\n",
       "      <td>133616</td>\n",
       "      <td>Some-college</td>\n",
       "      <td>10</td>\n",
       "      <td>Divorced</td>\n",
       "      <td>Adm-clerical</td>\n",
       "      <td>Unmarried</td>\n",
       "      <td>White</td>\n",
       "      <td>Female</td>\n",
       "      <td>0</td>\n",
       "      <td>0</td>\n",
       "      <td>40</td>\n",
       "      <td>United-States</td>\n",
       "      <td>&lt;=50K</td>\n",
       "    </tr>\n",
       "    <tr>\n",
       "      <th>32065</th>\n",
       "      <td>19</td>\n",
       "      <td>Private</td>\n",
       "      <td>251579</td>\n",
       "      <td>Some-college</td>\n",
       "      <td>10</td>\n",
       "      <td>Never-married</td>\n",
       "      <td>Other-service</td>\n",
       "      <td>Own-child</td>\n",
       "      <td>White</td>\n",
       "      <td>Male</td>\n",
       "      <td>0</td>\n",
       "      <td>0</td>\n",
       "      <td>14</td>\n",
       "      <td>United-States</td>\n",
       "      <td>&lt;=50K</td>\n",
       "    </tr>\n",
       "    <tr>\n",
       "      <th>32419</th>\n",
       "      <td>35</td>\n",
       "      <td>Private</td>\n",
       "      <td>379959</td>\n",
       "      <td>HS-grad</td>\n",
       "      <td>9</td>\n",
       "      <td>Divorced</td>\n",
       "      <td>Other-service</td>\n",
       "      <td>Not-in-family</td>\n",
       "      <td>White</td>\n",
       "      <td>Female</td>\n",
       "      <td>0</td>\n",
       "      <td>0</td>\n",
       "      <td>40</td>\n",
       "      <td>United-States</td>\n",
       "      <td>&lt;=50K</td>\n",
       "    </tr>\n",
       "  </tbody>\n",
       "</table>\n",
       "</div>"
      ],
      "text/plain": [
       "       age         workclass  fnlwgt     education  education.num  \\\n",
       "8453    25           Private  308144     Bachelors             13   \n",
       "8645    90           Private   52386  Some-college             10   \n",
       "12202   21           Private  250051  Some-college             10   \n",
       "14346   20           Private  107658  Some-college             10   \n",
       "15603   25           Private  195994       1st-4th              2   \n",
       "17344   21           Private  243368     Preschool              1   \n",
       "19067   46           Private  173243       HS-grad              9   \n",
       "20388   30           Private  144593       HS-grad              9   \n",
       "20507   19           Private   97261       HS-grad              9   \n",
       "22783   19           Private  138153  Some-college             10   \n",
       "22934   19           Private  146679  Some-college             10   \n",
       "23276   49           Private   31267       7th-8th              4   \n",
       "23660   25           Private  195994       1st-4th              2   \n",
       "23720   44           Private  367749     Bachelors             13   \n",
       "23827   49  Self-emp-not-inc   43479  Some-college             10   \n",
       "26738   23           Private  240137       5th-6th              3   \n",
       "27133   28           Private  274679       Masters             14   \n",
       "28796   27           Private  255582       HS-grad              9   \n",
       "29051   42           Private  204235  Some-college             10   \n",
       "29334   39           Private   30916       HS-grad              9   \n",
       "29604   38           Private  207202       HS-grad              9   \n",
       "31060   46           Private  133616  Some-college             10   \n",
       "32065   19           Private  251579  Some-college             10   \n",
       "32419   35           Private  379959       HS-grad              9   \n",
       "\n",
       "           marital.status         occupation   relationship  \\\n",
       "8453        Never-married       Craft-repair  Not-in-family   \n",
       "8645        Never-married      Other-service  Not-in-family   \n",
       "12202       Never-married     Prof-specialty      Own-child   \n",
       "14346       Never-married       Tech-support  Not-in-family   \n",
       "15603       Never-married    Priv-house-serv  Not-in-family   \n",
       "17344       Never-married    Farming-fishing  Not-in-family   \n",
       "19067  Married-civ-spouse       Craft-repair        Husband   \n",
       "20388       Never-married      Other-service  Not-in-family   \n",
       "20507       Never-married    Farming-fishing  Not-in-family   \n",
       "22783       Never-married       Adm-clerical      Own-child   \n",
       "22934       Never-married    Exec-managerial      Own-child   \n",
       "23276  Married-civ-spouse       Craft-repair        Husband   \n",
       "23660       Never-married    Priv-house-serv  Not-in-family   \n",
       "23720       Never-married     Prof-specialty  Not-in-family   \n",
       "23827  Married-civ-spouse       Craft-repair        Husband   \n",
       "26738       Never-married  Handlers-cleaners  Not-in-family   \n",
       "27133       Never-married     Prof-specialty  Not-in-family   \n",
       "28796       Never-married  Machine-op-inspct  Not-in-family   \n",
       "29051  Married-civ-spouse     Prof-specialty        Husband   \n",
       "29334  Married-civ-spouse       Craft-repair        Husband   \n",
       "29604  Married-civ-spouse  Machine-op-inspct        Husband   \n",
       "31060            Divorced       Adm-clerical      Unmarried   \n",
       "32065       Never-married      Other-service      Own-child   \n",
       "32419            Divorced      Other-service  Not-in-family   \n",
       "\n",
       "                     race     sex  capital.gain  capital.loss  hours.per.week  \\\n",
       "8453                White    Male             0             0              40   \n",
       "8645   Asian-Pac-Islander    Male             0             0              35   \n",
       "12202               White  Female             0             0              10   \n",
       "14346               White  Female             0             0              10   \n",
       "15603               White  Female             0             0              40   \n",
       "17344               White    Male             0             0              50   \n",
       "19067               White    Male             0             0              40   \n",
       "20388               Black    Male             0             0              40   \n",
       "20507               White    Male             0             0              40   \n",
       "22783               White  Female             0             0              10   \n",
       "22934               Black    Male             0             0              30   \n",
       "23276               White    Male             0             0              40   \n",
       "23660               White  Female             0             0              40   \n",
       "23720               White  Female             0             0              45   \n",
       "23827               White    Male             0             0              40   \n",
       "26738               White    Male             0             0              55   \n",
       "27133               White    Male             0             0              50   \n",
       "28796               White  Female             0             0              40   \n",
       "29051               White    Male             0             0              40   \n",
       "29334               White    Male             0             0              40   \n",
       "29604               White    Male             0             0              48   \n",
       "31060               White  Female             0             0              40   \n",
       "32065               White    Male             0             0              14   \n",
       "32419               White  Female             0             0              40   \n",
       "\n",
       "      native.country income  \n",
       "8453          Mexico  <=50K  \n",
       "8645   United-States  <=50K  \n",
       "12202  United-States  <=50K  \n",
       "14346  United-States  <=50K  \n",
       "15603      Guatemala  <=50K  \n",
       "17344         Mexico  <=50K  \n",
       "19067  United-States  <=50K  \n",
       "20388              ?  <=50K  \n",
       "20507  United-States  <=50K  \n",
       "22783  United-States  <=50K  \n",
       "22934  United-States  <=50K  \n",
       "23276  United-States  <=50K  \n",
       "23660      Guatemala  <=50K  \n",
       "23720         Mexico  <=50K  \n",
       "23827  United-States  <=50K  \n",
       "26738         Mexico  <=50K  \n",
       "27133  United-States  <=50K  \n",
       "28796  United-States  <=50K  \n",
       "29051  United-States   >50K  \n",
       "29334  United-States  <=50K  \n",
       "29604  United-States   >50K  \n",
       "31060  United-States  <=50K  \n",
       "32065  United-States  <=50K  \n",
       "32419  United-States  <=50K  "
      ]
     },
     "execution_count": 5,
     "metadata": {},
     "output_type": "execute_result"
    }
   ],
   "source": [
    "datacensus[datacensus.duplicated()]"
   ]
  },
  {
   "cell_type": "code",
   "execution_count": 6,
   "metadata": {
    "ExecuteTime": {
     "end_time": "2021-03-25T06:44:29.420617Z",
     "start_time": "2021-03-25T06:44:29.381905Z"
    }
   },
   "outputs": [],
   "source": [
    "datacensus = datacensus.drop_duplicates(keep='first',inplace=False)"
   ]
  },
  {
   "cell_type": "code",
   "execution_count": 7,
   "metadata": {
    "ExecuteTime": {
     "end_time": "2021-03-25T06:44:29.426796Z",
     "start_time": "2021-03-25T06:44:29.422763Z"
    }
   },
   "outputs": [
    {
     "data": {
      "text/plain": [
       "(32537, 15)"
      ]
     },
     "execution_count": 7,
     "metadata": {},
     "output_type": "execute_result"
    }
   ],
   "source": [
    "datacensus.shape"
   ]
  },
  {
   "cell_type": "markdown",
   "metadata": {},
   "source": [
    "## Data Missing Cleaning"
   ]
  },
  {
   "cell_type": "code",
   "execution_count": 8,
   "metadata": {
    "ExecuteTime": {
     "end_time": "2021-03-25T06:44:29.451641Z",
     "start_time": "2021-03-25T06:44:29.428577Z"
    }
   },
   "outputs": [
    {
     "data": {
      "text/plain": [
       "age               0\n",
       "workclass         0\n",
       "fnlwgt            0\n",
       "education         0\n",
       "education.num     0\n",
       "marital.status    0\n",
       "occupation        0\n",
       "relationship      0\n",
       "race              0\n",
       "sex               0\n",
       "capital.gain      0\n",
       "capital.loss      0\n",
       "hours.per.week    0\n",
       "native.country    0\n",
       "income            0\n",
       "dtype: int64"
      ]
     },
     "execution_count": 8,
     "metadata": {},
     "output_type": "execute_result"
    }
   ],
   "source": [
    "datacensus.isnull().sum()"
   ]
  },
  {
   "cell_type": "code",
   "execution_count": 9,
   "metadata": {
    "ExecuteTime": {
     "end_time": "2021-03-25T06:44:29.458632Z",
     "start_time": "2021-03-25T06:44:29.454541Z"
    }
   },
   "outputs": [
    {
     "data": {
      "text/plain": [
       "(32537, 15)"
      ]
     },
     "execution_count": 9,
     "metadata": {},
     "output_type": "execute_result"
    }
   ],
   "source": [
    "datacensus.shape"
   ]
  },
  {
   "cell_type": "code",
   "execution_count": 10,
   "metadata": {
    "ExecuteTime": {
     "end_time": "2021-03-25T06:44:29.467598Z",
     "start_time": "2021-03-25T06:44:29.461566Z"
    }
   },
   "outputs": [
    {
     "data": {
      "text/plain": [
       "0          ?\n",
       "1    Private\n",
       "2          ?\n",
       "3    Private\n",
       "4    Private\n",
       "Name: workclass, dtype: object"
      ]
     },
     "execution_count": 10,
     "metadata": {},
     "output_type": "execute_result"
    }
   ],
   "source": [
    "datacensus[\"workclass\"].head()"
   ]
  },
  {
   "cell_type": "code",
   "execution_count": 11,
   "metadata": {
    "ExecuteTime": {
     "end_time": "2021-03-25T06:44:29.474443Z",
     "start_time": "2021-03-25T06:44:29.469765Z"
    }
   },
   "outputs": [
    {
     "data": {
      "text/plain": [
       "0                    ?\n",
       "1      Exec-managerial\n",
       "2                    ?\n",
       "3    Machine-op-inspct\n",
       "4       Prof-specialty\n",
       "Name: occupation, dtype: object"
      ]
     },
     "execution_count": 11,
     "metadata": {},
     "output_type": "execute_result"
    }
   ],
   "source": [
    "datacensus[\"occupation\"].head()"
   ]
  },
  {
   "cell_type": "code",
   "execution_count": 12,
   "metadata": {
    "ExecuteTime": {
     "end_time": "2021-03-25T06:44:29.485208Z",
     "start_time": "2021-03-25T06:44:29.477579Z"
    }
   },
   "outputs": [
    {
     "data": {
      "text/plain": [
       "0     United-States\n",
       "1     United-States\n",
       "2     United-States\n",
       "3     United-States\n",
       "4     United-States\n",
       "5     United-States\n",
       "6     United-States\n",
       "7     United-States\n",
       "8     United-States\n",
       "9                 ?\n",
       "10    United-States\n",
       "11    United-States\n",
       "12    United-States\n",
       "13    United-States\n",
       "14    United-States\n",
       "15    United-States\n",
       "16    United-States\n",
       "17    United-States\n",
       "18                ?\n",
       "19    United-States\n",
       "Name: native.country, dtype: object"
      ]
     },
     "execution_count": 12,
     "metadata": {},
     "output_type": "execute_result"
    }
   ],
   "source": [
    "datacensus[\"native.country\"].head(20)"
   ]
  },
  {
   "cell_type": "code",
   "execution_count": null,
   "metadata": {
    "ExecuteTime": {
     "start_time": "2021-03-25T06:45:44.464Z"
    }
   },
   "outputs": [],
   "source": [
    "### List ? value\n",
    "tes = datacensus[datacensus['native.country'] == \"?\"].sum() "
   ]
  },
  {
   "cell_type": "code",
   "execution_count": null,
   "metadata": {
    "ExecuteTime": {
     "start_time": "2021-03-25T06:45:56.468Z"
    }
   },
   "outputs": [],
   "source": [
    "tes"
   ]
  },
  {
   "cell_type": "markdown",
   "metadata": {},
   "source": [
    "### Filling  \"?\" Dataframes"
   ]
  },
  {
   "cell_type": "code",
   "execution_count": 14,
   "metadata": {
    "ExecuteTime": {
     "end_time": "2021-03-25T06:44:29.634339Z",
     "start_time": "2021-03-25T06:44:29.507823Z"
    }
   },
   "outputs": [
    {
     "data": {
      "text/html": [
       "<div>\n",
       "<style scoped>\n",
       "    .dataframe tbody tr th:only-of-type {\n",
       "        vertical-align: middle;\n",
       "    }\n",
       "\n",
       "    .dataframe tbody tr th {\n",
       "        vertical-align: top;\n",
       "    }\n",
       "\n",
       "    .dataframe thead th {\n",
       "        text-align: right;\n",
       "    }\n",
       "</style>\n",
       "<table border=\"1\" class=\"dataframe\">\n",
       "  <thead>\n",
       "    <tr style=\"text-align: right;\">\n",
       "      <th></th>\n",
       "      <th>age</th>\n",
       "      <th>workclass</th>\n",
       "      <th>fnlwgt</th>\n",
       "      <th>education</th>\n",
       "      <th>education.num</th>\n",
       "      <th>marital.status</th>\n",
       "      <th>occupation</th>\n",
       "      <th>relationship</th>\n",
       "      <th>race</th>\n",
       "      <th>sex</th>\n",
       "      <th>capital.gain</th>\n",
       "      <th>capital.loss</th>\n",
       "      <th>hours.per.week</th>\n",
       "      <th>native.country</th>\n",
       "      <th>income</th>\n",
       "    </tr>\n",
       "  </thead>\n",
       "  <tbody>\n",
       "    <tr>\n",
       "      <th>count</th>\n",
       "      <td>32537.000000</td>\n",
       "      <td>32537</td>\n",
       "      <td>3.253700e+04</td>\n",
       "      <td>32537</td>\n",
       "      <td>32537.000000</td>\n",
       "      <td>32537</td>\n",
       "      <td>32537</td>\n",
       "      <td>32537</td>\n",
       "      <td>32537</td>\n",
       "      <td>32537</td>\n",
       "      <td>32537.000000</td>\n",
       "      <td>32537.000000</td>\n",
       "      <td>32537.000000</td>\n",
       "      <td>32537</td>\n",
       "      <td>32537</td>\n",
       "    </tr>\n",
       "    <tr>\n",
       "      <th>unique</th>\n",
       "      <td>NaN</td>\n",
       "      <td>9</td>\n",
       "      <td>NaN</td>\n",
       "      <td>16</td>\n",
       "      <td>NaN</td>\n",
       "      <td>7</td>\n",
       "      <td>15</td>\n",
       "      <td>6</td>\n",
       "      <td>5</td>\n",
       "      <td>2</td>\n",
       "      <td>NaN</td>\n",
       "      <td>NaN</td>\n",
       "      <td>NaN</td>\n",
       "      <td>42</td>\n",
       "      <td>2</td>\n",
       "    </tr>\n",
       "    <tr>\n",
       "      <th>top</th>\n",
       "      <td>NaN</td>\n",
       "      <td>Private</td>\n",
       "      <td>NaN</td>\n",
       "      <td>HS-grad</td>\n",
       "      <td>NaN</td>\n",
       "      <td>Married-civ-spouse</td>\n",
       "      <td>Prof-specialty</td>\n",
       "      <td>Husband</td>\n",
       "      <td>White</td>\n",
       "      <td>Male</td>\n",
       "      <td>NaN</td>\n",
       "      <td>NaN</td>\n",
       "      <td>NaN</td>\n",
       "      <td>United-States</td>\n",
       "      <td>&lt;=50K</td>\n",
       "    </tr>\n",
       "    <tr>\n",
       "      <th>freq</th>\n",
       "      <td>NaN</td>\n",
       "      <td>22673</td>\n",
       "      <td>NaN</td>\n",
       "      <td>10494</td>\n",
       "      <td>NaN</td>\n",
       "      <td>14970</td>\n",
       "      <td>4136</td>\n",
       "      <td>13187</td>\n",
       "      <td>27795</td>\n",
       "      <td>21775</td>\n",
       "      <td>NaN</td>\n",
       "      <td>NaN</td>\n",
       "      <td>NaN</td>\n",
       "      <td>29153</td>\n",
       "      <td>24698</td>\n",
       "    </tr>\n",
       "    <tr>\n",
       "      <th>mean</th>\n",
       "      <td>38.585549</td>\n",
       "      <td>NaN</td>\n",
       "      <td>1.897808e+05</td>\n",
       "      <td>NaN</td>\n",
       "      <td>10.081815</td>\n",
       "      <td>NaN</td>\n",
       "      <td>NaN</td>\n",
       "      <td>NaN</td>\n",
       "      <td>NaN</td>\n",
       "      <td>NaN</td>\n",
       "      <td>1078.443741</td>\n",
       "      <td>87.368227</td>\n",
       "      <td>40.440329</td>\n",
       "      <td>NaN</td>\n",
       "      <td>NaN</td>\n",
       "    </tr>\n",
       "    <tr>\n",
       "      <th>std</th>\n",
       "      <td>13.637984</td>\n",
       "      <td>NaN</td>\n",
       "      <td>1.055565e+05</td>\n",
       "      <td>NaN</td>\n",
       "      <td>2.571633</td>\n",
       "      <td>NaN</td>\n",
       "      <td>NaN</td>\n",
       "      <td>NaN</td>\n",
       "      <td>NaN</td>\n",
       "      <td>NaN</td>\n",
       "      <td>7387.957424</td>\n",
       "      <td>403.101833</td>\n",
       "      <td>12.346889</td>\n",
       "      <td>NaN</td>\n",
       "      <td>NaN</td>\n",
       "    </tr>\n",
       "    <tr>\n",
       "      <th>min</th>\n",
       "      <td>17.000000</td>\n",
       "      <td>NaN</td>\n",
       "      <td>1.228500e+04</td>\n",
       "      <td>NaN</td>\n",
       "      <td>1.000000</td>\n",
       "      <td>NaN</td>\n",
       "      <td>NaN</td>\n",
       "      <td>NaN</td>\n",
       "      <td>NaN</td>\n",
       "      <td>NaN</td>\n",
       "      <td>0.000000</td>\n",
       "      <td>0.000000</td>\n",
       "      <td>1.000000</td>\n",
       "      <td>NaN</td>\n",
       "      <td>NaN</td>\n",
       "    </tr>\n",
       "    <tr>\n",
       "      <th>25%</th>\n",
       "      <td>28.000000</td>\n",
       "      <td>NaN</td>\n",
       "      <td>1.178270e+05</td>\n",
       "      <td>NaN</td>\n",
       "      <td>9.000000</td>\n",
       "      <td>NaN</td>\n",
       "      <td>NaN</td>\n",
       "      <td>NaN</td>\n",
       "      <td>NaN</td>\n",
       "      <td>NaN</td>\n",
       "      <td>0.000000</td>\n",
       "      <td>0.000000</td>\n",
       "      <td>40.000000</td>\n",
       "      <td>NaN</td>\n",
       "      <td>NaN</td>\n",
       "    </tr>\n",
       "    <tr>\n",
       "      <th>50%</th>\n",
       "      <td>37.000000</td>\n",
       "      <td>NaN</td>\n",
       "      <td>1.783560e+05</td>\n",
       "      <td>NaN</td>\n",
       "      <td>10.000000</td>\n",
       "      <td>NaN</td>\n",
       "      <td>NaN</td>\n",
       "      <td>NaN</td>\n",
       "      <td>NaN</td>\n",
       "      <td>NaN</td>\n",
       "      <td>0.000000</td>\n",
       "      <td>0.000000</td>\n",
       "      <td>40.000000</td>\n",
       "      <td>NaN</td>\n",
       "      <td>NaN</td>\n",
       "    </tr>\n",
       "    <tr>\n",
       "      <th>75%</th>\n",
       "      <td>48.000000</td>\n",
       "      <td>NaN</td>\n",
       "      <td>2.369930e+05</td>\n",
       "      <td>NaN</td>\n",
       "      <td>12.000000</td>\n",
       "      <td>NaN</td>\n",
       "      <td>NaN</td>\n",
       "      <td>NaN</td>\n",
       "      <td>NaN</td>\n",
       "      <td>NaN</td>\n",
       "      <td>0.000000</td>\n",
       "      <td>0.000000</td>\n",
       "      <td>45.000000</td>\n",
       "      <td>NaN</td>\n",
       "      <td>NaN</td>\n",
       "    </tr>\n",
       "    <tr>\n",
       "      <th>max</th>\n",
       "      <td>90.000000</td>\n",
       "      <td>NaN</td>\n",
       "      <td>1.484705e+06</td>\n",
       "      <td>NaN</td>\n",
       "      <td>16.000000</td>\n",
       "      <td>NaN</td>\n",
       "      <td>NaN</td>\n",
       "      <td>NaN</td>\n",
       "      <td>NaN</td>\n",
       "      <td>NaN</td>\n",
       "      <td>99999.000000</td>\n",
       "      <td>4356.000000</td>\n",
       "      <td>99.000000</td>\n",
       "      <td>NaN</td>\n",
       "      <td>NaN</td>\n",
       "    </tr>\n",
       "  </tbody>\n",
       "</table>\n",
       "</div>"
      ],
      "text/plain": [
       "                 age workclass        fnlwgt education  education.num  \\\n",
       "count   32537.000000     32537  3.253700e+04     32537   32537.000000   \n",
       "unique           NaN         9           NaN        16            NaN   \n",
       "top              NaN   Private           NaN   HS-grad            NaN   \n",
       "freq             NaN     22673           NaN     10494            NaN   \n",
       "mean       38.585549       NaN  1.897808e+05       NaN      10.081815   \n",
       "std        13.637984       NaN  1.055565e+05       NaN       2.571633   \n",
       "min        17.000000       NaN  1.228500e+04       NaN       1.000000   \n",
       "25%        28.000000       NaN  1.178270e+05       NaN       9.000000   \n",
       "50%        37.000000       NaN  1.783560e+05       NaN      10.000000   \n",
       "75%        48.000000       NaN  2.369930e+05       NaN      12.000000   \n",
       "max        90.000000       NaN  1.484705e+06       NaN      16.000000   \n",
       "\n",
       "            marital.status      occupation relationship   race    sex  \\\n",
       "count                32537           32537        32537  32537  32537   \n",
       "unique                   7              15            6      5      2   \n",
       "top     Married-civ-spouse  Prof-specialty      Husband  White   Male   \n",
       "freq                 14970            4136        13187  27795  21775   \n",
       "mean                   NaN             NaN          NaN    NaN    NaN   \n",
       "std                    NaN             NaN          NaN    NaN    NaN   \n",
       "min                    NaN             NaN          NaN    NaN    NaN   \n",
       "25%                    NaN             NaN          NaN    NaN    NaN   \n",
       "50%                    NaN             NaN          NaN    NaN    NaN   \n",
       "75%                    NaN             NaN          NaN    NaN    NaN   \n",
       "max                    NaN             NaN          NaN    NaN    NaN   \n",
       "\n",
       "        capital.gain  capital.loss  hours.per.week native.country income  \n",
       "count   32537.000000  32537.000000    32537.000000          32537  32537  \n",
       "unique           NaN           NaN             NaN             42      2  \n",
       "top              NaN           NaN             NaN  United-States  <=50K  \n",
       "freq             NaN           NaN             NaN          29153  24698  \n",
       "mean     1078.443741     87.368227       40.440329            NaN    NaN  \n",
       "std      7387.957424    403.101833       12.346889            NaN    NaN  \n",
       "min         0.000000      0.000000        1.000000            NaN    NaN  \n",
       "25%         0.000000      0.000000       40.000000            NaN    NaN  \n",
       "50%         0.000000      0.000000       40.000000            NaN    NaN  \n",
       "75%         0.000000      0.000000       45.000000            NaN    NaN  \n",
       "max     99999.000000   4356.000000       99.000000            NaN    NaN  "
      ]
     },
     "execution_count": 14,
     "metadata": {},
     "output_type": "execute_result"
    }
   ],
   "source": [
    "datacensus.describe(include=\"all\")"
   ]
  },
  {
   "cell_type": "code",
   "execution_count": 15,
   "metadata": {
    "ExecuteTime": {
     "end_time": "2021-03-25T06:44:29.644780Z",
     "start_time": "2021-03-25T06:44:29.637209Z"
    }
   },
   "outputs": [],
   "source": [
    "datacensus[\"workclass\"].replace({\"?\": \"Private\"}, inplace=True) #replace with modus"
   ]
  },
  {
   "cell_type": "code",
   "execution_count": 16,
   "metadata": {
    "ExecuteTime": {
     "end_time": "2021-03-25T06:44:29.658831Z",
     "start_time": "2021-03-25T06:44:29.647041Z"
    }
   },
   "outputs": [
    {
     "data": {
      "text/plain": [
       "0    Private\n",
       "1    Private\n",
       "2    Private\n",
       "Name: workclass, dtype: object"
      ]
     },
     "execution_count": 16,
     "metadata": {},
     "output_type": "execute_result"
    }
   ],
   "source": [
    "datacensus[\"workclass\"].head(3)"
   ]
  },
  {
   "cell_type": "code",
   "execution_count": 17,
   "metadata": {
    "ExecuteTime": {
     "end_time": "2021-03-25T06:44:29.671488Z",
     "start_time": "2021-03-25T06:44:29.660659Z"
    }
   },
   "outputs": [],
   "source": [
    "datacensus[\"occupation\"].replace({\"?\": \"Prof-specialty\"}, inplace=True) #replace with modus"
   ]
  },
  {
   "cell_type": "code",
   "execution_count": 18,
   "metadata": {
    "ExecuteTime": {
     "end_time": "2021-03-25T06:44:29.685949Z",
     "start_time": "2021-03-25T06:44:29.673215Z"
    }
   },
   "outputs": [
    {
     "data": {
      "text/plain": [
       "0     Prof-specialty\n",
       "1    Exec-managerial\n",
       "2     Prof-specialty\n",
       "Name: occupation, dtype: object"
      ]
     },
     "execution_count": 18,
     "metadata": {},
     "output_type": "execute_result"
    }
   ],
   "source": [
    "datacensus[\"occupation\"].head(3)"
   ]
  },
  {
   "cell_type": "code",
   "execution_count": 19,
   "metadata": {
    "ExecuteTime": {
     "end_time": "2021-03-25T06:44:29.704865Z",
     "start_time": "2021-03-25T06:44:29.688109Z"
    }
   },
   "outputs": [],
   "source": [
    "#datacensus = datacensus[datacensus[\"native.country\"] != \"?\"]\n",
    "datacensus[\"native.country\"].replace({\"?\": \"United-States\"}, inplace=True)"
   ]
  },
  {
   "cell_type": "code",
   "execution_count": 20,
   "metadata": {
    "ExecuteTime": {
     "end_time": "2021-03-25T06:44:29.719619Z",
     "start_time": "2021-03-25T06:44:29.706920Z"
    }
   },
   "outputs": [
    {
     "data": {
      "text/plain": [
       "0    United-States\n",
       "1    United-States\n",
       "2    United-States\n",
       "Name: native.country, dtype: object"
      ]
     },
     "execution_count": 20,
     "metadata": {},
     "output_type": "execute_result"
    }
   ],
   "source": [
    "datacensus[\"native.country\"].head(3)"
   ]
  },
  {
   "cell_type": "code",
   "execution_count": 21,
   "metadata": {
    "ExecuteTime": {
     "end_time": "2021-03-25T06:44:29.732152Z",
     "start_time": "2021-03-25T06:44:29.721173Z"
    }
   },
   "outputs": [
    {
     "data": {
      "text/plain": [
       "(32537, 15)"
      ]
     },
     "execution_count": 21,
     "metadata": {},
     "output_type": "execute_result"
    }
   ],
   "source": [
    "datacensus.shape"
   ]
  },
  {
   "cell_type": "markdown",
   "metadata": {},
   "source": [
    "## Outlier with Boxplot"
   ]
  },
  {
   "cell_type": "code",
   "execution_count": 22,
   "metadata": {
    "ExecuteTime": {
     "end_time": "2021-03-25T06:44:30.144268Z",
     "start_time": "2021-03-25T06:44:29.734372Z"
    }
   },
   "outputs": [
    {
     "data": {
      "text/plain": [
       "<matplotlib.axes._subplots.AxesSubplot at 0x7f98c4ce6250>"
      ]
     },
     "execution_count": 22,
     "metadata": {},
     "output_type": "execute_result"
    },
    {
     "data": {
      "image/png": "[encoded data removed]",
      "text/plain": [
       "<Figure size 432x288 with 1 Axes>"
      ]
     },
     "metadata": {},
     "output_type": "display_data"
    }
   ],
   "source": [
    "sns.boxplot(x=datacensus[\"age\"])"
   ]
  },
  {
   "cell_type": "code",
   "execution_count": 23,
   "metadata": {
    "ExecuteTime": {
     "end_time": "2021-03-25T06:44:30.410910Z",
     "start_time": "2021-03-25T06:44:30.147009Z"
    }
   },
   "outputs": [
    {
     "data": {
      "text/plain": [
       "<matplotlib.axes._subplots.AxesSubplot at 0x7f98c44cf1f0>"
      ]
     },
     "execution_count": 23,
     "metadata": {},
     "output_type": "execute_result"
    },
    {
     "data": {
      "image/png": "[encoded data removed]",
      "text/plain": [
       "<Figure size 432x288 with 1 Axes>"
      ]
     },
     "metadata": {},
     "output_type": "display_data"
    }
   ],
   "source": [
    "sns.boxplot(x=datacensus[\"fnlwgt\"])"
   ]
  },
  {
   "cell_type": "code",
   "execution_count": 24,
   "metadata": {
    "ExecuteTime": {
     "end_time": "2021-03-25T06:44:30.728348Z",
     "start_time": "2021-03-25T06:44:30.414637Z"
    }
   },
   "outputs": [
    {
     "data": {
      "text/plain": [
       "<matplotlib.axes._subplots.AxesSubplot at 0x7f98c4f58040>"
      ]
     },
     "execution_count": 24,
     "metadata": {},
     "output_type": "execute_result"
    },
    {
     "data": {
      "image/png": "[encoded data removed]",
      "text/plain": [
       "<Figure size 432x288 with 1 Axes>"
      ]
     },
     "metadata": {},
     "output_type": "display_data"
    }
   ],
   "source": [
    "sns.boxplot(x=datacensus[\"hours.per.week\"])"
   ]
  },
  {
   "cell_type": "code",
   "execution_count": 25,
   "metadata": {
    "ExecuteTime": {
     "end_time": "2021-03-25T06:44:31.048929Z",
     "start_time": "2021-03-25T06:44:30.732212Z"
    }
   },
   "outputs": [
    {
     "data": {
      "text/plain": [
       "<matplotlib.axes._subplots.AxesSubplot at 0x7f98c43bfc10>"
      ]
     },
     "execution_count": 25,
     "metadata": {},
     "output_type": "execute_result"
    },
    {
     "data": {
      "image/png": "[encoded data removed]",
      "text/plain": [
       "<Figure size 432x288 with 1 Axes>"
      ]
     },
     "metadata": {},
     "output_type": "display_data"
    }
   ],
   "source": [
    "sns.boxplot(x=datacensus[\"capital.gain\"])"
   ]
  },
  {
   "cell_type": "code",
   "execution_count": 26,
   "metadata": {
    "ExecuteTime": {
     "end_time": "2021-03-25T06:44:31.354540Z",
     "start_time": "2021-03-25T06:44:31.051229Z"
    }
   },
   "outputs": [
    {
     "data": {
      "text/plain": [
       "<matplotlib.axes._subplots.AxesSubplot at 0x7f98c4395a00>"
      ]
     },
     "execution_count": 26,
     "metadata": {},
     "output_type": "execute_result"
    },
    {
     "data": {
      "image/png": "[encoded data removed]",
      "text/plain": [
       "<Figure size 432x288 with 1 Axes>"
      ]
     },
     "metadata": {},
     "output_type": "display_data"
    }
   ],
   "source": [
    "sns.boxplot(x=datacensus[\"capital.loss\"])"
   ]
  },
  {
   "cell_type": "markdown",
   "metadata": {},
   "source": [
    "### Handling Outlier with Z-Score"
   ]
  },
  {
   "cell_type": "code",
   "execution_count": 27,
   "metadata": {
    "ExecuteTime": {
     "end_time": "2021-03-25T06:44:31.377862Z",
     "start_time": "2021-03-25T06:44:31.356773Z"
    }
   },
   "outputs": [],
   "source": [
    "from scipy import stats\n",
    "datacensus = datacensus[(np.abs(stats.zscore(datacensus._get_numeric_data())) < 3).all(axis=1)].copy()"
   ]
  },
  {
   "cell_type": "code",
   "execution_count": 28,
   "metadata": {
    "ExecuteTime": {
     "end_time": "2021-03-25T06:44:31.385081Z",
     "start_time": "2021-03-25T06:44:31.381033Z"
    }
   },
   "outputs": [
    {
     "data": {
      "text/plain": [
       "(29809, 15)"
      ]
     },
     "execution_count": 28,
     "metadata": {},
     "output_type": "execute_result"
    }
   ],
   "source": [
    "datacensus.shape"
   ]
  },
  {
   "cell_type": "code",
   "execution_count": 29,
   "metadata": {
    "ExecuteTime": {
     "end_time": "2021-03-25T06:44:31.706971Z",
     "start_time": "2021-03-25T06:44:31.387302Z"
    }
   },
   "outputs": [
    {
     "data": {
      "text/plain": [
       "<matplotlib.axes._subplots.AxesSubplot at 0x7f98c42e8640>"
      ]
     },
     "execution_count": 29,
     "metadata": {},
     "output_type": "execute_result"
    },
    {
     "data": {
      "image/png": "[encoded data removed]",
      "text/plain": [
       "<Figure size 432x288 with 1 Axes>"
      ]
     },
     "metadata": {},
     "output_type": "display_data"
    }
   ],
   "source": [
    "sns.boxplot(x=datacensus[\"age\"])"
   ]
  },
  {
   "cell_type": "code",
   "execution_count": 30,
   "metadata": {
    "ExecuteTime": {
     "end_time": "2021-03-25T06:44:32.021093Z",
     "start_time": "2021-03-25T06:44:31.709568Z"
    }
   },
   "outputs": [
    {
     "data": {
      "text/plain": [
       "<matplotlib.axes._subplots.AxesSubplot at 0x7f98c42b6250>"
      ]
     },
     "execution_count": 30,
     "metadata": {},
     "output_type": "execute_result"
    },
    {
     "data": {
      "image/png": "[encoded data removed]",
      "text/plain": [
       "<Figure size 432x288 with 1 Axes>"
      ]
     },
     "metadata": {},
     "output_type": "display_data"
    }
   ],
   "source": [
    "sns.boxplot(x=datacensus[\"fnlwgt\"])"
   ]
  },
  {
   "cell_type": "code",
   "execution_count": 31,
   "metadata": {
    "ExecuteTime": {
     "end_time": "2021-03-25T06:44:32.307203Z",
     "start_time": "2021-03-25T06:44:32.023143Z"
    }
   },
   "outputs": [
    {
     "data": {
      "text/plain": [
       "<matplotlib.axes._subplots.AxesSubplot at 0x7f98c426d4c0>"
      ]
     },
     "execution_count": 31,
     "metadata": {},
     "output_type": "execute_result"
    },
    {
     "data": {
      "image/png": "[encoded data removed]",
      "text/plain": [
       "<Figure size 432x288 with 1 Axes>"
      ]
     },
     "metadata": {},
     "output_type": "display_data"
    }
   ],
   "source": [
    "sns.boxplot(x=datacensus[\"hours.per.week\"])"
   ]
  },
  {
   "cell_type": "code",
   "execution_count": 32,
   "metadata": {
    "ExecuteTime": {
     "end_time": "2021-03-25T06:44:32.620408Z",
     "start_time": "2021-03-25T06:44:32.309371Z"
    }
   },
   "outputs": [
    {
     "data": {
      "text/plain": [
       "<matplotlib.axes._subplots.AxesSubplot at 0x7f98c4251880>"
      ]
     },
     "execution_count": 32,
     "metadata": {},
     "output_type": "execute_result"
    },
    {
     "data": {
      "image/png": "[encoded data removed]",
      "text/plain": [
       "<Figure size 432x288 with 1 Axes>"
      ]
     },
     "metadata": {},
     "output_type": "display_data"
    }
   ],
   "source": [
    "sns.boxplot(x=datacensus[\"capital.gain\"])"
   ]
  },
  {
   "cell_type": "code",
   "execution_count": 33,
   "metadata": {
    "ExecuteTime": {
     "end_time": "2021-03-25T06:44:32.989794Z",
     "start_time": "2021-03-25T06:44:32.622571Z"
    }
   },
   "outputs": [
    {
     "data": {
      "text/plain": [
       "<matplotlib.axes._subplots.AxesSubplot at 0x7f98c41b59d0>"
      ]
     },
     "execution_count": 33,
     "metadata": {},
     "output_type": "execute_result"
    },
    {
     "data": {
      "image/png": "[encoded data removed]",
      "text/plain": [
       "<Figure size 432x288 with 1 Axes>"
      ]
     },
     "metadata": {},
     "output_type": "display_data"
    }
   ],
   "source": [
    "sns.boxplot(x=datacensus[\"capital.loss\"])"
   ]
  },
  {
   "cell_type": "markdown",
   "metadata": {},
   "source": [
    "# Corelation Analysis Between Numerical Variable"
   ]
  },
  {
   "cell_type": "markdown",
   "metadata": {
    "ExecuteTime": {
     "end_time": "2021-03-21T06:40:31.076642Z",
     "start_time": "2021-03-21T06:40:20.625015Z"
    }
   },
   "source": [
    "## Plot Heatmap"
   ]
  },
  {
   "cell_type": "code",
   "execution_count": 34,
   "metadata": {
    "ExecuteTime": {
     "end_time": "2021-03-25T06:44:33.012818Z",
     "start_time": "2021-03-25T06:44:32.991538Z"
    }
   },
   "outputs": [
    {
     "data": {
      "text/html": [
       "<div>\n",
       "<style scoped>\n",
       "    .dataframe tbody tr th:only-of-type {\n",
       "        vertical-align: middle;\n",
       "    }\n",
       "\n",
       "    .dataframe tbody tr th {\n",
       "        vertical-align: top;\n",
       "    }\n",
       "\n",
       "    .dataframe thead th {\n",
       "        text-align: right;\n",
       "    }\n",
       "</style>\n",
       "<table border=\"1\" class=\"dataframe\">\n",
       "  <thead>\n",
       "    <tr style=\"text-align: right;\">\n",
       "      <th></th>\n",
       "      <th>age</th>\n",
       "      <th>fnlwgt</th>\n",
       "      <th>capital.gain</th>\n",
       "      <th>capital.loss</th>\n",
       "      <th>hours.per.week</th>\n",
       "    </tr>\n",
       "  </thead>\n",
       "  <tbody>\n",
       "    <tr>\n",
       "      <th>1470</th>\n",
       "      <td>62</td>\n",
       "      <td>159908</td>\n",
       "      <td>0</td>\n",
       "      <td>1258</td>\n",
       "      <td>38</td>\n",
       "    </tr>\n",
       "    <tr>\n",
       "      <th>1471</th>\n",
       "      <td>72</td>\n",
       "      <td>144515</td>\n",
       "      <td>0</td>\n",
       "      <td>1258</td>\n",
       "      <td>40</td>\n",
       "    </tr>\n",
       "    <tr>\n",
       "      <th>1472</th>\n",
       "      <td>76</td>\n",
       "      <td>224680</td>\n",
       "      <td>0</td>\n",
       "      <td>1258</td>\n",
       "      <td>20</td>\n",
       "    </tr>\n",
       "    <tr>\n",
       "      <th>1473</th>\n",
       "      <td>66</td>\n",
       "      <td>350498</td>\n",
       "      <td>0</td>\n",
       "      <td>1258</td>\n",
       "      <td>20</td>\n",
       "    </tr>\n",
       "    <tr>\n",
       "      <th>1474</th>\n",
       "      <td>33</td>\n",
       "      <td>262042</td>\n",
       "      <td>0</td>\n",
       "      <td>1138</td>\n",
       "      <td>40</td>\n",
       "    </tr>\n",
       "    <tr>\n",
       "      <th>...</th>\n",
       "      <td>...</td>\n",
       "      <td>...</td>\n",
       "      <td>...</td>\n",
       "      <td>...</td>\n",
       "      <td>...</td>\n",
       "    </tr>\n",
       "    <tr>\n",
       "      <th>32556</th>\n",
       "      <td>22</td>\n",
       "      <td>310152</td>\n",
       "      <td>0</td>\n",
       "      <td>0</td>\n",
       "      <td>40</td>\n",
       "    </tr>\n",
       "    <tr>\n",
       "      <th>32557</th>\n",
       "      <td>27</td>\n",
       "      <td>257302</td>\n",
       "      <td>0</td>\n",
       "      <td>0</td>\n",
       "      <td>38</td>\n",
       "    </tr>\n",
       "    <tr>\n",
       "      <th>32558</th>\n",
       "      <td>40</td>\n",
       "      <td>154374</td>\n",
       "      <td>0</td>\n",
       "      <td>0</td>\n",
       "      <td>40</td>\n",
       "    </tr>\n",
       "    <tr>\n",
       "      <th>32559</th>\n",
       "      <td>58</td>\n",
       "      <td>151910</td>\n",
       "      <td>0</td>\n",
       "      <td>0</td>\n",
       "      <td>40</td>\n",
       "    </tr>\n",
       "    <tr>\n",
       "      <th>32560</th>\n",
       "      <td>22</td>\n",
       "      <td>201490</td>\n",
       "      <td>0</td>\n",
       "      <td>0</td>\n",
       "      <td>20</td>\n",
       "    </tr>\n",
       "  </tbody>\n",
       "</table>\n",
       "<p>29809 rows × 5 columns</p>\n",
       "</div>"
      ],
      "text/plain": [
       "       age  fnlwgt  capital.gain  capital.loss  hours.per.week\n",
       "1470    62  159908             0          1258              38\n",
       "1471    72  144515             0          1258              40\n",
       "1472    76  224680             0          1258              20\n",
       "1473    66  350498             0          1258              20\n",
       "1474    33  262042             0          1138              40\n",
       "...    ...     ...           ...           ...             ...\n",
       "32556   22  310152             0             0              40\n",
       "32557   27  257302             0             0              38\n",
       "32558   40  154374             0             0              40\n",
       "32559   58  151910             0             0              40\n",
       "32560   22  201490             0             0              20\n",
       "\n",
       "[29809 rows x 5 columns]"
      ]
     },
     "execution_count": 34,
     "metadata": {},
     "output_type": "execute_result"
    }
   ],
   "source": [
    "# Memisahkan data non numeric dengan numeric untuk analisis korelasi antar variable numerik\n",
    "datacensus_numeric = datacensus.select_dtypes('number').drop([\"education.num\"], axis=1)\n",
    "datacensus_numeric"
   ]
  },
  {
   "cell_type": "code",
   "execution_count": 35,
   "metadata": {
    "ExecuteTime": {
     "end_time": "2021-03-25T06:44:33.361971Z",
     "start_time": "2021-03-25T06:44:33.015980Z"
    }
   },
   "outputs": [
    {
     "data": {
      "image/png": "[encoded data removed]",
      "text/plain": [
       "<Figure size 432x288 with 2 Axes>"
      ]
     },
     "metadata": {},
     "output_type": "display_data"
    }
   ],
   "source": [
    "# membuat plot heatmap untuk mengetahui seberapa kuat hubungan antar variable. Semakin biru semakin kuat\n",
    "corr = datacensus_numeric.corr()\n",
    "ax = sns.heatmap(\n",
    "    corr, \n",
    "    vmin=-1, vmax=1, center=0,\n",
    "    linewidths=.5 ,\n",
    "    cmap=sns.diverging_palette(20, 220, n=200),\n",
    "    square=True\n",
    ")\n",
    "ax.set_xticklabels(\n",
    "    ax.get_xticklabels(),\n",
    "    rotation=45,\n",
    "    horizontalalignment='right'\n",
    ");"
   ]
  },
  {
   "cell_type": "markdown",
   "metadata": {},
   "source": [
    "Dari hasil heatmap, tidak ada satupun kotak yang memiliki skala nilai 0.50 ke atas (diagonal dikecualikan). Artinya korelasi antar variabel numerik ini lemah. Sebagai contoh, irisan baris \"fnlwgt\" dengan kolom \"age\" berwarna merah, yang bila dipetakan dengan skala, memiliki nilai antara 0.00 dan -0.25 sehingga bisa dikatakan korelasi keduanya rendah dan tidak searah. "
   ]
  },
  {
   "cell_type": "markdown",
   "metadata": {},
   "source": [
    "## Scatter Plot & Line Plot"
   ]
  },
  {
   "cell_type": "markdown",
   "metadata": {},
   "source": [
    "#### Age vs fnlwgt"
   ]
  },
  {
   "cell_type": "code",
   "execution_count": 36,
   "metadata": {
    "ExecuteTime": {
     "end_time": "2021-03-25T06:44:33.881520Z",
     "start_time": "2021-03-25T06:44:33.363736Z"
    }
   },
   "outputs": [
    {
     "data": {
      "text/plain": [
       "<matplotlib.axes._subplots.AxesSubplot at 0x7f98bfe17c10>"
      ]
     },
     "execution_count": 36,
     "metadata": {},
     "output_type": "execute_result"
    },
    {
     "data": {
      "image/png": "[encoded data removed]",
      "text/plain": [
       "<Figure size 432x288 with 1 Axes>"
      ]
     },
     "metadata": {},
     "output_type": "display_data"
    }
   ],
   "source": [
    "sns.scatterplot(datacensus[\"age\"], datacensus[\"fnlwgt\"], s=20)"
   ]
  },
  {
   "cell_type": "code",
   "execution_count": 37,
   "metadata": {
    "ExecuteTime": {
     "end_time": "2021-03-25T06:44:39.537139Z",
     "start_time": "2021-03-25T06:44:33.883558Z"
    }
   },
   "outputs": [
    {
     "data": {
      "text/plain": [
       "<matplotlib.axes._subplots.AxesSubplot at 0x7f98bfdeeac0>"
      ]
     },
     "execution_count": 37,
     "metadata": {},
     "output_type": "execute_result"
    },
    {
     "data": {
      "image/png": "[encoded data removed]",
      "text/plain": [
       "<Figure size 432x288 with 1 Axes>"
      ]
     },
     "metadata": {},
     "output_type": "display_data"
    }
   ],
   "source": [
    "sns.lineplot(x = \"age\", y=\"fnlwgt\", data=datacensus)"
   ]
  },
  {
   "cell_type": "markdown",
   "metadata": {},
   "source": [
    "Dari kedua gambar tersebut, tidak bisa dikategorikan apakah jenis relasi \"shape\" keduanya linear atau kurva, hanya bisa diketahui bahwa non-linear. Karena dari gambar lineplot membentuk garis naik turun tidak beraturan, maka tidak dapat ditentukan apakah jenis relasi \"direction\" di atas negative atau positif. Dari gambar scatterplot, sulit untuk bisa menentukan apakah relasi \"strength\" keduanya adalah weak atau strong dan juga konsentrasi data yang mengelompok tidak dapat dilihat sehingga sulit menentukan pemisah yang jelas untuk menentukan data outlier."
   ]
  },
  {
   "cell_type": "markdown",
   "metadata": {},
   "source": [
    "#### Age vs Hours per Week"
   ]
  },
  {
   "cell_type": "code",
   "execution_count": 38,
   "metadata": {
    "ExecuteTime": {
     "end_time": "2021-03-25T06:44:40.391850Z",
     "start_time": "2021-03-25T06:44:39.541153Z"
    }
   },
   "outputs": [
    {
     "data": {
      "image/png": "[encoded data removed]",
      "text/plain": [
       "<Figure size 432x288 with 1 Axes>"
      ]
     },
     "metadata": {},
     "output_type": "display_data"
    }
   ],
   "source": [
    "plt.scatter(datacensus[\"age\"], datacensus[\"hours.per.week\"],s=0.4)\n",
    "plt.xlabel(\"Age\")\n",
    "plt.ylabel(\"hours.per.week\")\n",
    "plt.title(\"Plot age and hours.per.week\")\n",
    "plt.show()"
   ]
  },
  {
   "cell_type": "code",
   "execution_count": 39,
   "metadata": {
    "ExecuteTime": {
     "end_time": "2021-03-25T06:44:45.666994Z",
     "start_time": "2021-03-25T06:44:40.397028Z"
    }
   },
   "outputs": [
    {
     "data": {
      "text/plain": [
       "<matplotlib.axes._subplots.AxesSubplot at 0x7f98be4cf670>"
      ]
     },
     "execution_count": 39,
     "metadata": {},
     "output_type": "execute_result"
    },
    {
     "data": {
      "image/png": "[encoded data removed]",
      "text/plain": [
       "<Figure size 432x288 with 1 Axes>"
      ]
     },
     "metadata": {},
     "output_type": "display_data"
    }
   ],
   "source": [
    "sns.lineplot(x=\"age\",y=\"hours.per.week\", data=datacensus)"
   ]
  },
  {
   "cell_type": "markdown",
   "metadata": {},
   "source": [
    "Kurva ini memiliki kecenderungan shape curved, dengan tingkat strength yang kuat. Kurva ini memiliki 2 arah, bisa terlihat bawah dari age 20 sampai sekitar age 40, arahnya merupakan arah positive, yang artinya semakin bertambahnya umur, maka semakin bertambahnya hours.per.week. kemudian mulai dari age 60 hingga 80 kurva cenderung mengalami penurunan, yg berarti directionny adalah negatif, ketiga age semakin bertambah pada rentang 60-80, hours per week cenderung menurun"
   ]
  },
  {
   "cell_type": "markdown",
   "metadata": {},
   "source": [
    "#### Age vs Capital Gain"
   ]
  },
  {
   "cell_type": "code",
   "execution_count": 40,
   "metadata": {
    "ExecuteTime": {
     "end_time": "2021-03-25T06:44:46.350285Z",
     "start_time": "2021-03-25T06:44:45.670889Z"
    }
   },
   "outputs": [
    {
     "data": {
      "image/png": "[encoded data removed]",
      "text/plain": [
       "<Figure size 432x288 with 1 Axes>"
      ]
     },
     "metadata": {},
     "output_type": "display_data"
    }
   ],
   "source": [
    "plt.scatter(datacensus[\"age\"], datacensus[\"capital.gain\"],s=0.4)\n",
    "plt.xlabel(\"age\")\n",
    "plt.ylabel(\"capital.gain\")\n",
    "plt.title(\" Plot Age - Capital.gain\")\n",
    "plt.show()"
   ]
  },
  {
   "cell_type": "code",
   "execution_count": 41,
   "metadata": {
    "ExecuteTime": {
     "end_time": "2021-03-25T06:44:51.357924Z",
     "start_time": "2021-03-25T06:44:46.354408Z"
    }
   },
   "outputs": [
    {
     "data": {
      "text/plain": [
       "<matplotlib.axes._subplots.AxesSubplot at 0x7f98be44ca90>"
      ]
     },
     "execution_count": 41,
     "metadata": {},
     "output_type": "execute_result"
    },
    {
     "data": {
      "image/png": "[encoded data removed]",
      "text/plain": [
       "<Figure size 432x288 with 1 Axes>"
      ]
     },
     "metadata": {},
     "output_type": "display_data"
    }
   ],
   "source": [
    "sns.lineplot(x=\"age\",y=\"capital.gain\",data=datacensus)"
   ]
  },
  {
   "cell_type": "markdown",
   "metadata": {},
   "source": [
    "garis berbentuk kurva dan cenderung positif,  yg berarti semakin bertambahnya usia, capital gain akan semakin naik untuk rentang usia 20 - 70. Setelah itu kurva cenderung ke arah negatif, semakin bertambahnya umur rentang 70-80, capital gain cenderung berkurang. Tingkat strength nya adalah strong"
   ]
  },
  {
   "cell_type": "markdown",
   "metadata": {},
   "source": [
    "#### Age vs Capital Loss"
   ]
  },
  {
   "cell_type": "code",
   "execution_count": 42,
   "metadata": {
    "ExecuteTime": {
     "end_time": "2021-03-25T06:44:52.061949Z",
     "start_time": "2021-03-25T06:44:51.360778Z"
    }
   },
   "outputs": [
    {
     "data": {
      "image/png": "[encoded data removed]",
      "text/plain": [
       "<Figure size 432x288 with 1 Axes>"
      ]
     },
     "metadata": {},
     "output_type": "display_data"
    }
   ],
   "source": [
    "plt.scatter(datacensus[\"age\"], datacensus[\"capital.loss\"], s=0.5)\n",
    "plt.xlabel(\"Age\")\n",
    "plt.ylabel(\"capital.loss\")\n",
    "plt.title(\"Plot Age-Capital.loss\")\n",
    "plt.show()"
   ]
  },
  {
   "cell_type": "code",
   "execution_count": 43,
   "metadata": {
    "ExecuteTime": {
     "end_time": "2021-03-25T06:44:57.812278Z",
     "start_time": "2021-03-25T06:44:52.065346Z"
    }
   },
   "outputs": [
    {
     "data": {
      "text/plain": [
       "<matplotlib.axes._subplots.AxesSubplot at 0x7f98be3a68e0>"
      ]
     },
     "execution_count": 43,
     "metadata": {},
     "output_type": "execute_result"
    },
    {
     "data": {
      "image/png": "[encoded data removed]",
      "text/plain": [
       "<Figure size 432x288 with 1 Axes>"
      ]
     },
     "metadata": {},
     "output_type": "display_data"
    }
   ],
   "source": [
    "sns.lineplot(x=\"age\",y=\"capital.loss\",data=datacensus)"
   ]
  },
  {
   "cell_type": "markdown",
   "metadata": {},
   "source": [
    "Pada analisis jenis relasi antara age dengan capital loss, sulit untuk bisa menentukan jenis relasi \"direction\" adalah positif atau negatif, dikarenakan pada gambar lineplot, garis naik turun tidak beraturan, tidak ada kecendurungan naik atau turun. Jenis relasi shape adalah nonlinear, meskipun bukan curved. Untuk analisis \"strength\", sulit untuk bisa ditentukan. Begitu pun dengan outlier. Hal ini dipengaruhi oleh value dataset dari kolom capital loss, yang memiliki banyak nilai 0, yang membuat ragu apakah 0 ini sebagai data sesungguhnya, atau sebagai missing value. Jika merupakan data yang sesungguhnya, bisa dikatakan jenis relasi \"strength\" adalah strong, karena scatter plot dibandingkan dengan garis dari age 20 hingga 60 cendderung berdekatan dan outlier dapat diindikasikan oleh data dengan value capital loss diatas 200"
   ]
  },
  {
   "cell_type": "markdown",
   "metadata": {},
   "source": [
    "#### fnlwgt vs hours per week"
   ]
  },
  {
   "cell_type": "code",
   "execution_count": 44,
   "metadata": {
    "ExecuteTime": {
     "end_time": "2021-03-25T06:44:58.871576Z",
     "start_time": "2021-03-25T06:44:57.816363Z"
    }
   },
   "outputs": [
    {
     "data": {
      "text/plain": [
       "<matplotlib.axes._subplots.AxesSubplot at 0x7f98be380dc0>"
      ]
     },
     "execution_count": 44,
     "metadata": {},
     "output_type": "execute_result"
    },
    {
     "data": {
      "image/png": "[encoded data removed]",
      "text/plain": [
       "<Figure size 432x288 with 1 Axes>"
      ]
     },
     "metadata": {},
     "output_type": "display_data"
    }
   ],
   "source": [
    "sns.scatterplot(datacensus[\"fnlwgt\"], datacensus[\"hours.per.week\"], s=10)"
   ]
  },
  {
   "cell_type": "code",
   "execution_count": null,
   "metadata": {
    "ExecuteTime": {
     "start_time": "2021-03-25T06:44:28.267Z"
    }
   },
   "outputs": [],
   "source": [
    "sns.lineplot(x=\"fnlwgt\",y=\"hours.per.week\",data=datacensus)"
   ]
  },
  {
   "cell_type": "markdown",
   "metadata": {},
   "source": [
    "Analisis jenis relasi antara fnlwgt dengan hours per week, untuk jenis direction tidak dapat ditentukan, karena garis benar-benar tidak beraturan. Relasi \"strength\" tidak dapat ditentukan, karena dari gambar tersebut tidak memiliki garis pasti yang menunjukkan hubungan kedua variable tersebut. Untuk outlier sulit ditentukan, karena tidak ada rentang khusus tertentu tempat data-data cenderung terkonsentrasi."
   ]
  },
  {
   "cell_type": "markdown",
   "metadata": {},
   "source": [
    "#### fnlwgt vs capital gain"
   ]
  },
  {
   "cell_type": "code",
   "execution_count": null,
   "metadata": {
    "ExecuteTime": {
     "start_time": "2021-03-25T06:44:28.273Z"
    }
   },
   "outputs": [],
   "source": [
    "sns.scatterplot(datacensus[\"fnlwgt\"], datacensus[\"capital.gain\"], s=10)"
   ]
  },
  {
   "cell_type": "code",
   "execution_count": null,
   "metadata": {
    "ExecuteTime": {
     "start_time": "2021-03-25T06:44:28.277Z"
    }
   },
   "outputs": [],
   "source": [
    "sns.lineplot(x=\"fnlwgt\",y=\"capital.gain\",data=datacensus)"
   ]
  },
  {
   "cell_type": "markdown",
   "metadata": {},
   "source": [
    "Analisis jenis relasi antara fnlwgt dengan capital gain, untuk jenis direction tidak dapat ditentukan, karena garis benar-benar tidak beraturan. Relasi \"shape\" adalah nonlinear namun bukan curved juga. Relasi \"strength\" tidak dapat ditentukan, karena dari gambar tersebut tidak memiliki garis pasti yang menunjukkan hubungan kedua variable tersebut. Untuk outlier sulit ditentukan, karena tidak ada rentang khusus tertentu tempat data-data cenderung terkonsentrasi."
   ]
  },
  {
   "cell_type": "markdown",
   "metadata": {},
   "source": [
    "#### fnlwgt vs capital loss"
   ]
  },
  {
   "cell_type": "code",
   "execution_count": null,
   "metadata": {
    "ExecuteTime": {
     "start_time": "2021-03-25T06:44:28.283Z"
    }
   },
   "outputs": [],
   "source": [
    "sns.scatterplot(datacensus[\"fnlwgt\"], datacensus[\"capital.loss\"], s=10)"
   ]
  },
  {
   "cell_type": "code",
   "execution_count": null,
   "metadata": {
    "ExecuteTime": {
     "start_time": "2021-03-25T06:44:28.286Z"
    }
   },
   "outputs": [],
   "source": [
    "sns.lineplot(x=\"fnlwgt\",y=\"capital.loss\",data=datacensus)"
   ]
  },
  {
   "cell_type": "markdown",
   "metadata": {},
   "source": [
    "Analisis jenis relasi antara fnlwgt dengan capital loss, untuk jenis direction tidak dapat ditentukan, karena garis tidak beraturan, cenderung naik dan turun secara ekstrim. Relasi \"shape\" adalah nonlinear namun bukan curved juga. Relasi \"strength\" tidak dapat ditentukan, karena dari gambar tersebut tidak memiliki garis pasti yang menunjukkan hubungan kedua variable tersebut. Untuk outlier sulit ditentukan, karena tidak ada rentang khusus tertentu tempat data-data cenderung terkonsentrasi."
   ]
  },
  {
   "cell_type": "markdown",
   "metadata": {},
   "source": [
    "#### Hours per Week vs capital gain"
   ]
  },
  {
   "cell_type": "code",
   "execution_count": null,
   "metadata": {
    "ExecuteTime": {
     "start_time": "2021-03-25T06:44:28.293Z"
    }
   },
   "outputs": [],
   "source": [
    "sns.scatterplot(datacensus[\"hours.per.week\"], datacensus[\"capital.gain\"], s=10)"
   ]
  },
  {
   "cell_type": "code",
   "execution_count": null,
   "metadata": {
    "ExecuteTime": {
     "start_time": "2021-03-25T06:44:28.296Z"
    }
   },
   "outputs": [],
   "source": [
    "sns.lineplot(x=\"hours.per.week\",y=\"capital.gain\",data=datacensus)"
   ]
  },
  {
   "cell_type": "markdown",
   "metadata": {},
   "source": [
    "Analisis jenis relasi antara capital gain dengan hours per week, untuk jenis direction tidak dapat ditentukan, karena garis tidak beraturan, cenderung naik dan turun tanpa pola tertentu. Relasi \"shape\" adalah nonlinear namun bukan curved juga. Relasi \"strength\" tidak dapat ditentukan, karena dari gambar tersebut tidak memiliki garis pasti yang menunjukkan hubungan kedua variable tersebut. Untuk outlier sulit ditentukan, karena tidak ada rentang khusus tertentu tempat data-data cenderung terkonsentrasi."
   ]
  },
  {
   "cell_type": "markdown",
   "metadata": {},
   "source": [
    "#### Hours per week vs Capital Loss"
   ]
  },
  {
   "cell_type": "code",
   "execution_count": null,
   "metadata": {
    "ExecuteTime": {
     "start_time": "2021-03-25T06:44:28.303Z"
    }
   },
   "outputs": [],
   "source": [
    "sns.scatterplot(datacensus[\"hours.per.week\"], datacensus[\"capital.loss\"], s=12)"
   ]
  },
  {
   "cell_type": "code",
   "execution_count": null,
   "metadata": {
    "ExecuteTime": {
     "start_time": "2021-03-25T06:44:28.306Z"
    }
   },
   "outputs": [],
   "source": [
    "sns.lineplot(x=\"hours.per.week\",y=\"capital.loss\",data=datacensus)"
   ]
  },
  {
   "cell_type": "markdown",
   "metadata": {},
   "source": [
    "Analisis relasi antara hours per week dengan capital loss. Untuk jenis relasi direction, tidak bisa ditentukan, karena tidak ada kecendurangan naik atau turun. Untuk shape merupakan non linear dan tingkat strength sulit ditentukan, karena jika ditarik garis, dapat membentuk hubungan strong dengan capital loss berada di nilai 0. Untuk outlier, jika mengikuti nilai capital loss di 0, maka dapat dikatakan terdapat outlier. Namun, data capital loss ini masih harus dicari tahu lebih mendalam untuk dapat menentukan analisis relasi."
   ]
  },
  {
   "cell_type": "markdown",
   "metadata": {},
   "source": [
    "#### Capital Gain vs Capital Loss"
   ]
  },
  {
   "cell_type": "code",
   "execution_count": null,
   "metadata": {
    "ExecuteTime": {
     "start_time": "2021-03-25T06:44:28.312Z"
    }
   },
   "outputs": [],
   "source": [
    "sns.scatterplot(datacensus[\"capital.gain\"], datacensus[\"capital.loss\"], s = 30)"
   ]
  },
  {
   "cell_type": "code",
   "execution_count": null,
   "metadata": {
    "ExecuteTime": {
     "start_time": "2021-03-25T06:44:28.316Z"
    }
   },
   "outputs": [],
   "source": [
    "sns.lineplot(x=\"capital.gain\",y=\"capital.loss\",data=datacensus)"
   ]
  },
  {
   "cell_type": "markdown",
   "metadata": {},
   "source": [
    "Terbentuk garis unik antara capital loss dan capital gain. Analisis jenis relasi \"direction\" tidak dapat ditentukan. Analisis shape juga tidak dapat ditentukan, meskipun terlihat linear, namun terdapat hubungan yang tidak dapat dijelaskan dari garis tegak lurus yang terbentuk. Untuk strength dan outlier pun tidak dapat ditentukan jenis relasi yang sesuai."
   ]
  },
  {
   "cell_type": "markdown",
   "metadata": {},
   "source": [
    "### Count spearman / pearson between numerical feature"
   ]
  },
  {
   "cell_type": "code",
   "execution_count": null,
   "metadata": {
    "ExecuteTime": {
     "start_time": "2021-03-25T06:44:28.322Z"
    }
   },
   "outputs": [],
   "source": [
    "from scipy.stats import spearmanr, pearsonr"
   ]
  },
  {
   "cell_type": "code",
   "execution_count": null,
   "metadata": {
    "ExecuteTime": {
     "start_time": "2021-03-25T06:44:28.326Z"
    }
   },
   "outputs": [],
   "source": [
    "for i in  range (len(datacensus_numeric.columns)-1) :\n",
    "    for j in range(i+1, len(datacensus_numeric.columns)):\n",
    "        ## count pearson and spearman\n",
    "        corr_spearman, _ = spearmanr(datacensus[datacensus_numeric.columns[i]], datacensus[datacensus_numeric.columns[j]])\n",
    "#         corr_pearson, _ = pearsonr(datacensus[datacensus_numeric.columns[i]], datacensus[datacensus_numeric.columns[j]])\n",
    "        print(\"corelation between features \", datacensus_numeric.columns[i], \" with \", datacensus_numeric.columns[j])\n",
    "#         print(\"pearson : \", corr_pearson)\n",
    "        print(\"spearman : \", corr_spearman)\n",
    "        print(\"--------------------------------\")"
   ]
  },
  {
   "cell_type": "markdown",
   "metadata": {},
   "source": [
    "Dari hasil analisis korelasi spearman (digunakan karena keseluruhan data tidak membentuk relasi linear), nilai negatif menunjukkan hubungan antar kedua variable tidaklah searah. Untuk nilai koeefisien antara 0.00 hingga 0.25, hubungan kedua variable lemah. Dilihat dari hasil diatas, dapat disimpulkan bahwa semua antar variable numerik adalah lemah, dikarenakan tidak ada nilai koefisien yang mencapai 0.25"
   ]
  },
  {
   "cell_type": "markdown",
   "metadata": {},
   "source": [
    "# Distribution Analysis"
   ]
  },
  {
   "cell_type": "markdown",
   "metadata": {},
   "source": [
    "### Age"
   ]
  },
  {
   "cell_type": "code",
   "execution_count": null,
   "metadata": {
    "ExecuteTime": {
     "start_time": "2021-03-25T06:44:28.333Z"
    }
   },
   "outputs": [],
   "source": [
    "plt.hist(datacensus[\"age\"])\n",
    "plt.title(\"Age Visualization\")\n",
    "plt.xlabel(\"Age\")\n",
    "plt.ylabel(\"Frequency\")\n",
    "plt.show()"
   ]
  },
  {
   "cell_type": "markdown",
   "metadata": {},
   "source": [
    "Menurut visualisasi data diatas skewness nya adalah right skew dan not symetric. Usia maksimal berada direntang usia 30 dengan frekuensi lebih dari 4000."
   ]
  },
  {
   "cell_type": "markdown",
   "metadata": {},
   "source": [
    "### work class "
   ]
  },
  {
   "cell_type": "code",
   "execution_count": null,
   "metadata": {
    "ExecuteTime": {
     "start_time": "2021-03-25T06:44:28.339Z"
    },
    "scrolled": true
   },
   "outputs": [],
   "source": [
    "plt.figure(figsize=[20,10])\n",
    "plt.hist(datacensus[\"workclass\"])\n",
    "plt.title(\"Work Class Visualization\")\n",
    "plt.xlabel(\"Work Class\")\n",
    "plt.ylabel(\"Frequency\")\n",
    "plt.show()"
   ]
  },
  {
   "cell_type": "markdown",
   "metadata": {},
   "source": [
    "Menurut visualisasi data diatas frekuensi tertinggi pada working class private/pribadi dengan nilai frekuensi 20000. Modalitynya adalah unimodal."
   ]
  },
  {
   "cell_type": "markdown",
   "metadata": {},
   "source": [
    "### fnlwgt"
   ]
  },
  {
   "cell_type": "code",
   "execution_count": null,
   "metadata": {
    "ExecuteTime": {
     "start_time": "2021-03-25T06:44:28.347Z"
    },
    "scrolled": true
   },
   "outputs": [],
   "source": [
    "plt.hist(datacensus[\"fnlwgt\"])\n",
    "plt.title(\"Final Weight Visualization\")\n",
    "plt.xlabel(\"Final Weight\")\n",
    "plt.ylabel(\"Frequency\")\n",
    "plt.show()"
   ]
  },
  {
   "cell_type": "markdown",
   "metadata": {},
   "source": [
    "Menurut visualisasi data diatas modalitynya adalah unimodal dan skewness right skew. Dengan nilai frekuensi final weight tertinggi berada di rentang 20000."
   ]
  },
  {
   "cell_type": "markdown",
   "metadata": {},
   "source": [
    "### Education"
   ]
  },
  {
   "cell_type": "code",
   "execution_count": null,
   "metadata": {
    "ExecuteTime": {
     "start_time": "2021-03-25T06:44:28.355Z"
    }
   },
   "outputs": [],
   "source": [
    "plt.figure(figsize=(20,10))\n",
    "plt.hist(datacensus[\"education\"])\n",
    "plt.title(\"Education Visualization\")\n",
    "plt.xlabel(\"Education\")\n",
    "plt.ylabel(\"Frequency\")\n",
    "plt.show()"
   ]
  },
  {
   "cell_type": "markdown",
   "metadata": {},
   "source": [
    "Menurut visualisasi data diatas modalitynya adalah unimodal dan skewness right skew. Dengan nilai frekuensi edukasi tertinggi berada di HS-grad (lulusan SMA). "
   ]
  },
  {
   "cell_type": "markdown",
   "metadata": {},
   "source": [
    "### Marital Status"
   ]
  },
  {
   "cell_type": "code",
   "execution_count": null,
   "metadata": {
    "ExecuteTime": {
     "start_time": "2021-03-25T06:44:28.362Z"
    }
   },
   "outputs": [],
   "source": [
    "plt.figure(figsize=[20,10])\n",
    "plt.hist(datacensus[\"marital.status\"])\n",
    "plt.title(\"Marital Status Visualization\")\n",
    "plt.xlabel(\"Marital Status\")\n",
    "plt.ylabel(\"Frequency\")\n",
    "plt.show()"
   ]
  },
  {
   "cell_type": "markdown",
   "metadata": {},
   "source": [
    "Menurut visualisasi data diatas frekuensi tertinggi ada pada married-civ-spouse dengan frekuensi diatas 12000 dengan modalitynya adalah unimodal."
   ]
  },
  {
   "cell_type": "markdown",
   "metadata": {},
   "source": [
    "### Occupation"
   ]
  },
  {
   "cell_type": "code",
   "execution_count": null,
   "metadata": {
    "ExecuteTime": {
     "start_time": "2021-03-25T06:44:28.370Z"
    }
   },
   "outputs": [],
   "source": [
    "plt.figure(figsize=[30,10])\n",
    "plt.hist(datacensus[\"occupation\"])\n",
    "plt.title(\"Occupation Visualization\")\n",
    "plt.xlabel(\"Occupation\")\n",
    "plt.ylabel(\"Frequency\")\n",
    "plt.show()"
   ]
  },
  {
   "cell_type": "markdown",
   "metadata": {},
   "source": [
    "Menurut visualisasi diatas modalitynya adalah multimodal dan frekuensi terbanyak ada pada Adm-clerical dengan frekuensi diatas 7000"
   ]
  },
  {
   "cell_type": "markdown",
   "metadata": {},
   "source": [
    "### Relationship"
   ]
  },
  {
   "cell_type": "code",
   "execution_count": null,
   "metadata": {
    "ExecuteTime": {
     "start_time": "2021-03-25T06:44:28.377Z"
    },
    "scrolled": true
   },
   "outputs": [],
   "source": [
    "plt.figure(figsize=[20,10])\n",
    "plt.hist(datacensus[\"relationship\"])\n",
    "plt.title(\"Relationship Visualization\")\n",
    "plt.xlabel(\"Relationship\")\n",
    "plt.ylabel(\"Frequency\")\n",
    "plt.show()"
   ]
  },
  {
   "cell_type": "markdown",
   "metadata": {},
   "source": [
    "Menurut data visualisasi diatas, frekuensi tertinggi ada pada Husband dengan frekuensi berada diatas 10000 dengan modality bimodal"
   ]
  },
  {
   "cell_type": "markdown",
   "metadata": {},
   "source": [
    "### Race"
   ]
  },
  {
   "cell_type": "code",
   "execution_count": null,
   "metadata": {
    "ExecuteTime": {
     "start_time": "2021-03-25T06:44:28.384Z"
    }
   },
   "outputs": [],
   "source": [
    "plt.hist(datacensus[\"race\"])\n",
    "plt.title(\"Race Visualization\")\n",
    "plt.xlabel(\"Race\")\n",
    "plt.ylabel(\"Frequency\")\n",
    "plt.show()"
   ]
  },
  {
   "cell_type": "markdown",
   "metadata": {},
   "source": [
    "Menurut data visualisasi diatas, modality adalah unimodal dan skewness nya adalah right skewed yang frekuensi tertingginya berada pada White dengan frekuensi diatas 20000"
   ]
  },
  {
   "cell_type": "markdown",
   "metadata": {},
   "source": [
    "### Sex"
   ]
  },
  {
   "cell_type": "code",
   "execution_count": null,
   "metadata": {
    "ExecuteTime": {
     "start_time": "2021-03-25T06:44:28.390Z"
    }
   },
   "outputs": [],
   "source": [
    "plt.hist(datacensus[\"sex\"])\n",
    "plt.title(\"Sex Visualization\")\n",
    "plt.xlabel(\"Sex\")\n",
    "plt.ylabel(\"Frequency\")\n",
    "plt.show()"
   ]
  },
  {
   "cell_type": "markdown",
   "metadata": {},
   "source": [
    "Menurut data visalisasi diatas frekuensi tertinggi ada pada Male dengan frekuensi diatas 17500"
   ]
  },
  {
   "cell_type": "markdown",
   "metadata": {},
   "source": [
    "### Capital Loss"
   ]
  },
  {
   "cell_type": "code",
   "execution_count": null,
   "metadata": {
    "ExecuteTime": {
     "start_time": "2021-03-25T06:44:28.397Z"
    }
   },
   "outputs": [],
   "source": [
    "plt.hist(datacensus[\"capital.loss\"])\n",
    "plt.title(\"Capital Loss Visualization\")\n",
    "plt.xlabel(\"Capital Loss\")\n",
    "plt.ylabel(\"Frequency\")\n",
    "plt.show()"
   ]
  },
  {
   "cell_type": "markdown",
   "metadata": {},
   "source": [
    "Menurut data visualisasi diatas, frekuensi tertinggi berada pada rentang sekitar 0-100 dengan frekuensi diatas 250000"
   ]
  },
  {
   "cell_type": "markdown",
   "metadata": {},
   "source": [
    "### Capital Gain"
   ]
  },
  {
   "cell_type": "code",
   "execution_count": null,
   "metadata": {
    "ExecuteTime": {
     "start_time": "2021-03-25T06:44:28.405Z"
    }
   },
   "outputs": [],
   "source": [
    "plt.hist(datacensus[\"capital.gain\"])\n",
    "plt.title(\"Capital Gain\")\n",
    "plt.xlabel(\"Capital Gain\")\n",
    "plt.ylabel(\"Frequency\")\n",
    "plt.show()"
   ]
  },
  {
   "cell_type": "markdown",
   "metadata": {},
   "source": [
    "Menurut data visualisasi diatas, modalitynya adalah unimodal dan skewnessnya adalah right skewed dengan frekuensi tertinggi ada pada rentang sekitar 0-2500 dengan frekuensi diatas 25000"
   ]
  },
  {
   "cell_type": "markdown",
   "metadata": {},
   "source": [
    "### Hours per Week"
   ]
  },
  {
   "cell_type": "code",
   "execution_count": null,
   "metadata": {
    "ExecuteTime": {
     "start_time": "2021-03-25T06:44:28.413Z"
    },
    "scrolled": true
   },
   "outputs": [],
   "source": [
    "plt.hist(datacensus[\"hours.per.week\"])\n",
    "plt.title(\"Hours per Week Visualization\")\n",
    "plt.xlabel(\"hours per week\")\n",
    "plt.ylabel(\"Frequency\")\n",
    "plt.show()"
   ]
  },
  {
   "cell_type": "markdown",
   "metadata": {},
   "source": [
    "Dari data visualisasi diatas frekuensi tertingi pada rentang sekitar 35-40 dengan frekuensi diatas 14000 dengan modality unimodal dan skewness nya symetric"
   ]
  },
  {
   "cell_type": "markdown",
   "metadata": {},
   "source": [
    "### Native Country"
   ]
  },
  {
   "cell_type": "code",
   "execution_count": null,
   "metadata": {
    "ExecuteTime": {
     "start_time": "2021-03-25T06:44:28.420Z"
    },
    "scrolled": true
   },
   "outputs": [],
   "source": [
    "plt.figure(figsize=[40,10])\n",
    "plt.hist(datacensus[\"native.country\"], orientation='horizontal')\n",
    "plt.title(\"Native Country Visualization\")\n",
    "plt.ylabel(\"Frequency\")\n",
    "plt.xlabel(\"Native Country\")\n",
    "plt.show()"
   ]
  },
  {
   "cell_type": "markdown",
   "metadata": {},
   "source": [
    "Dari data visualisasi diatas, modality nya adalah bimodal dan skewness nya adalah left skewed dengan frekuensi tertinggi dimana frekuensi tertinggi berada pada native country yang united states dengan frekuensi berada diatas 25000"
   ]
  },
  {
   "cell_type": "markdown",
   "metadata": {},
   "source": [
    "### Income"
   ]
  },
  {
   "cell_type": "code",
   "execution_count": null,
   "metadata": {
    "ExecuteTime": {
     "start_time": "2021-03-25T06:44:28.427Z"
    },
    "scrolled": true
   },
   "outputs": [],
   "source": [
    "plt.hist(datacensus[\"income\"])\n",
    "plt.title(\"Income Visualization\")\n",
    "plt.xlabel(\"Income\")\n",
    "plt.ylabel(\"Frequency\")\n",
    "plt.show()"
   ]
  },
  {
   "cell_type": "markdown",
   "metadata": {},
   "source": [
    "Dari data visualisasi diatas dapat dilihat bahwa frekuensi terbanyak pada income dibawah 50k dengan frekuensi diatas 20000"
   ]
  },
  {
   "cell_type": "markdown",
   "metadata": {},
   "source": [
    "# Statistic Descriptive"
   ]
  },
  {
   "cell_type": "code",
   "execution_count": null,
   "metadata": {
    "ExecuteTime": {
     "start_time": "2021-03-25T06:44:28.435Z"
    },
    "scrolled": true
   },
   "outputs": [],
   "source": [
    "datacensus.describe(include=\"all\")"
   ]
  },
  {
   "cell_type": "markdown",
   "metadata": {},
   "source": [
    "Dari hasil statistik deskriptif tabel diatas pada kolom age dapat diketahui bahwa rata rata umur berada di umur 38. Dengan sampel termuda adalah 17 dan sampel tertua adalah 77, Dapat diketahui juga bahwa data fitur age adalah right skewness karena mean lebih besar dari median. Berdasarkan Q1,Q2, dan Q3 serta nilai rata rata dapat disimpulkan bahwa sebagian besar umurnya berada dalam umur produktif meskipun ada yang diluar umur tidak produktif. Dengan standar deviasi 12 pada kolom age.\n",
    "\n",
    "Kolom workclass, dapat diketahui bahwa nilai terbanyak yang muncul adalah private dengan frekuensi 20575. Banyaknya value dari workclass adalah 7 kelas.\n",
    "\n",
    "Kolom final weight, dapat diketahui jumlah terkecil karakteristik sampel yang sama sebanyak 13769 dan jumlah terbesar karakteristik sampel yang sama sebanyak 506436.\n",
    "\n",
    "Kolom education, diatas dapat diketahui bahwa modus berada pada HS-grad dan frekuensi 9178. Berdasarkan hasil nilai unique terdapat 14 kategori education."
   ]
  },
  {
   "cell_type": "markdown",
   "metadata": {},
   "source": [
    "## White Race HS-Grad Education"
   ]
  },
  {
   "cell_type": "code",
   "execution_count": null,
   "metadata": {
    "ExecuteTime": {
     "start_time": "2021-03-25T06:44:28.443Z"
    }
   },
   "outputs": [],
   "source": [
    "df_raceW = datacensus.query('race == \"White\"').copy()\n",
    "df_raceEduW = df_raceW.query('education == \"HS-grad\"').copy()\n",
    "df_raceAbove50kW = df_raceEduW.query('income == \">50K\"').copy()\n",
    "len(df_raceAbove50kW.index) #count all rows\n",
    "#16%"
   ]
  },
  {
   "cell_type": "code",
   "execution_count": null,
   "metadata": {
    "ExecuteTime": {
     "start_time": "2021-03-25T06:44:28.447Z"
    }
   },
   "outputs": [],
   "source": [
    "df_raceBelow50kW = df_raceEduW.query('income == \"<=50K\"').copy()\n",
    "len(df_raceBelow50kW.index) #count all rows\n",
    "#84%"
   ]
  },
  {
   "cell_type": "code",
   "execution_count": null,
   "metadata": {
    "ExecuteTime": {
     "start_time": "2021-03-25T06:44:28.450Z"
    }
   },
   "outputs": [],
   "source": [
    "sns.countplot(data=df_raceEduW, x='income', palette='cool')"
   ]
  },
  {
   "cell_type": "code",
   "execution_count": null,
   "metadata": {
    "ExecuteTime": {
     "start_time": "2021-03-25T06:44:28.454Z"
    }
   },
   "outputs": [],
   "source": [
    "df_raceB = datacensus.query('race == \"Black\"').copy()\n",
    "df_raceEduB = df_raceB.query('education == \"HS-grad\"').copy()\n",
    "df_raceAbove50kB = df_raceEduB.query('income == \">50K\"').copy()\n",
    "len(df_raceAbove50kB.index) #count all rows\n",
    "#6%"
   ]
  },
  {
   "cell_type": "code",
   "execution_count": null,
   "metadata": {
    "ExecuteTime": {
     "start_time": "2021-03-25T06:44:28.458Z"
    }
   },
   "outputs": [],
   "source": [
    "df_raceBelow50kB = df_raceEduB.query('income == \"<=50K\"').copy()\n",
    "len(df_raceBelow50kB.index) #count all rows\n",
    "#94%"
   ]
  },
  {
   "cell_type": "code",
   "execution_count": null,
   "metadata": {
    "ExecuteTime": {
     "start_time": "2021-03-25T06:44:28.462Z"
    }
   },
   "outputs": [],
   "source": [
    "sns.countplot(data=df_raceEduB, x='income', palette='cool')"
   ]
  },
  {
   "cell_type": "markdown",
   "metadata": {},
   "source": [
    "Karena modus kategorikal pada variabel [education] adalah HS-grad (High School Graduation), percobaan statistik deskriptif dilakukan pada [race] yang kedua terbesar, yaitu ras 'White' dan ras 'Black', dengan edukasi HS-grad. Lalu income untuk setiap ras dibandingkan untuk yang ><span>&#36;</span>50k dan <=<span>&#36;</span>50k. Jika kita membandingkan income diantara ras kedua ini, perbedaannya hanya 10% pada ras hitam. Walaupun ras putih pada data ini sangat mendominan, perbedaan antar ras hitam tidak terlalu besar. Pada tahun 2017, bisa dikatakan, bahwa kesempatan ras putih di Amerika Serikat untuk mendapatkan pendapatan lebih dari <span>&#36;</span>50k setelah lulus SMA lebih besar dibanding ras hitam. Kesempatan ini bisa dalam bentuk peluang pekerjaan yang terbuka dengan gelar SMA, bisnis, ataupun melanjutkan perusahaan orang tua, banyak hal yang bisa di evaluasi pada 'kesempatan' yang diraih."
   ]
  },
  {
   "cell_type": "markdown",
   "metadata": {},
   "source": [
    "## Income comparison to Married vs. Not Marriage"
   ]
  },
  {
   "cell_type": "code",
   "execution_count": null,
   "metadata": {
    "ExecuteTime": {
     "start_time": "2021-03-25T06:44:28.470Z"
    }
   },
   "outputs": [],
   "source": [
    "datacensus['marital.status'].value_counts()"
   ]
  },
  {
   "cell_type": "code",
   "execution_count": null,
   "metadata": {
    "ExecuteTime": {
     "start_time": "2021-03-25T06:44:28.475Z"
    }
   },
   "outputs": [],
   "source": [
    "labels = [\"Married-civ-spouse\", \"Never-married\", \"Divorced\", \"Separated\", \"Widowed\", \"Married-spouse-absent\", \"Married-AF-spouse\"]\n",
    "explode = [0, 0, 0, 0, 0, 0, 0]\n",
    "jumlah = [13376, 10047, 4157, 957, 880, 373, 19]"
   ]
  },
  {
   "cell_type": "code",
   "execution_count": null,
   "metadata": {
    "ExecuteTime": {
     "start_time": "2021-03-25T06:44:28.479Z"
    }
   },
   "outputs": [],
   "source": [
    "plt.pie(jumlah, labels=labels, explode=explode, autopct=\"%1.1f%%\", shadow=True, startangle=150)\n",
    "plt.show()"
   ]
  },
  {
   "cell_type": "markdown",
   "metadata": {},
   "source": [
    "Jika kita perhatikan pie chart mengenai marital status, kita bisa asumsi bahwa seseorang yang dikategorikan \"divorced\" sudah tidak menikah. Tidak bisa dikategorikan sebagai \"married\" ataupun \"never-married\"."
   ]
  },
  {
   "cell_type": "code",
   "execution_count": null,
   "metadata": {
    "ExecuteTime": {
     "start_time": "2021-03-25T06:44:28.487Z"
    }
   },
   "outputs": [],
   "source": [
    "df_above50k = datacensus.query('income == \">50K\"').copy()\n",
    "df_below50k = datacensus.query('income == \"<=50K\"').copy()"
   ]
  },
  {
   "cell_type": "code",
   "execution_count": null,
   "metadata": {
    "ExecuteTime": {
     "start_time": "2021-03-25T06:44:28.492Z"
    }
   },
   "outputs": [],
   "source": [
    "df_above50k['marital.status'].value_counts()"
   ]
  },
  {
   "cell_type": "code",
   "execution_count": null,
   "metadata": {
    "ExecuteTime": {
     "start_time": "2021-03-25T06:44:28.497Z"
    }
   },
   "outputs": [],
   "source": [
    "df_below50k['marital.status'].value_counts()"
   ]
  },
  {
   "cell_type": "markdown",
   "metadata": {},
   "source": [
    "Perbandingan statistika dilakukan berdasarkan modus kedua besar pada variabel [marital.status] yaitu \"Married Civilian Spouse\" (kita gunakan abreviasi 'married' untuk kategori ini) dan \"Never Married\". Jika dibandingkan dengan total data yang sudah married, hasil adalah <b>43%</b> untuk keluarga yang mempunyai pendapatan ><span>&#36;</span>50k dan kebalikannya yang mempunyai pendapatan <=<span>&#36;</span>50k </span> berjumlah <b>57%</b> dari total. Sedangkan jika kita bandingkan dengan \"Never Married\". Hasil berdasarkan data, untuk seseorang yang tidak menikah dengan pendapatan ><span>&#36;</span>50 hanya sebesar <b>4%</b> sementara untuk yang tidak menikah dengan pendapatan <=<span>&#36;</span>50 hanya sebesar <b>96%</b>. \n",
    "<br><br>\n",
    "Selisih untuk seseorang yang dikategorikan married hanya berjumlah <b>14%</b>.  <br>\n",
    "Sedangkan bagi yang tidak menikah berjumlah <b>92%</b>.\n",
    "<br><br>\n",
    "Berdasarkan analisa ini, bisa dikatakan bahwa status pernikahan ada efek pada penghasilan seseorang. Mungkin dengan pasangan hidup, mereka mempunyai goal hidup yang lebih tergambar. Walaupun perbedaan hanya <b>14%</b> tidak semua keluarga harus menghasilkan ><span>&#36;</span>50k / tahun. Tetapi bisa disimpulkan bahwa status pernikahan seseorang dapat mempengaruhi faktor kehidupan untuk e.g: bekerja keras, menggambar tujuan, etc., dimana hal ini dapat mempengaruhi caranya untuk mendapat pendapatan ><span>&#36;</span>50k / tahun."
   ]
  },
  {
   "cell_type": "markdown",
   "metadata": {},
   "source": [
    "## Occupation (Job Positions) vs. Income"
   ]
  },
  {
   "cell_type": "code",
   "execution_count": null,
   "metadata": {
    "ExecuteTime": {
     "start_time": "2021-03-25T06:44:28.505Z"
    }
   },
   "outputs": [],
   "source": [
    "occBelow50k = datacensus.query('income == \"<=50K\"').copy()"
   ]
  },
  {
   "cell_type": "code",
   "execution_count": null,
   "metadata": {
    "ExecuteTime": {
     "start_time": "2021-03-25T06:44:28.509Z"
    }
   },
   "outputs": [],
   "source": [
    "occAbove50k = datacensus.query('income == \">50K\"').copy()"
   ]
  },
  {
   "cell_type": "code",
   "execution_count": null,
   "metadata": {
    "ExecuteTime": {
     "start_time": "2021-03-25T06:44:28.513Z"
    }
   },
   "outputs": [],
   "source": [
    "ax = sns.countplot(data=occBelow50k, x='occupation', palette='cool')\n",
    "\n",
    "ax.set_xticklabels(ax.get_xticklabels(), rotation=40, ha=\"right\")\n",
    "plt.tight_layout()\n",
    "plt.show()"
   ]
  },
  {
   "cell_type": "code",
   "execution_count": null,
   "metadata": {
    "ExecuteTime": {
     "start_time": "2021-03-25T06:44:28.519Z"
    }
   },
   "outputs": [],
   "source": [
    "occBelow50k[\"occupation\"].value_counts()"
   ]
  },
  {
   "cell_type": "code",
   "execution_count": null,
   "metadata": {
    "ExecuteTime": {
     "start_time": "2021-03-25T06:44:28.525Z"
    }
   },
   "outputs": [],
   "source": [
    "ax = sns.countplot(data=occAbove50k, x='occupation', palette='cool')\n",
    "\n",
    "ax.set_xticklabels(ax.get_xticklabels(), rotation=40, ha=\"right\")\n",
    "plt.tight_layout()\n",
    "plt.show()"
   ]
  },
  {
   "cell_type": "code",
   "execution_count": null,
   "metadata": {
    "ExecuteTime": {
     "start_time": "2021-03-25T06:44:28.532Z"
    }
   },
   "outputs": [],
   "source": [
    "occAbove50k[\"occupation\"].value_counts()"
   ]
  },
  {
   "cell_type": "markdown",
   "metadata": {},
   "source": [
    "Pada dua grafik count pada occupation / job entries yang terdaftar pada dataset tahun 2017. Top 3 pekerjaan yang diambil dengan penghasilan ><span>&#36;</span>50k adalah <b>Professional Specialty</b> (biasanya bidang yang tertentu), <b>Executive Managerial</b>, dan <b>Sales</b>. Namun untuk pekerjaan yang <=<span>&#36;</span>50, top 3 pekerjaan adalah <b>Professional Specialty</b>, <b>Administrative Clerk</b>, <b>Craft Repair</b>. Tentunya untuk \"other services\" bisa dalam bentuk pekerjaan yang banyak. Kembali lagi pada perspektif seseorang, mungkin untuk pekerjaan top 3 yang <=<span>&#36;</span>50k tidak berarti penghasilan pekerjaan tersebut memang rendah. Tetapi, sebuah pekerjaan mempunyai karakteristiknya sendiri yang relevan pada dunia nyata, dimana faktor trend juga ada pengaruhnya. Jadi sebagai kesimpulan, berdasarkan dataset 2017, pekerjaan yang disebut sebagai trend penghasilan ><span>&#36;</span>50k adalah <b>Professional Specialty</b>. Dimana pekerjaan ini bisa melibatkan hobby seseorang sehingga mencapai level profesi yang tinggi."
   ]
  },
  {
   "cell_type": "markdown",
   "metadata": {},
   "source": [
    "## Female vs. Male Income"
   ]
  },
  {
   "cell_type": "markdown",
   "metadata": {},
   "source": [
    "### Female"
   ]
  },
  {
   "cell_type": "code",
   "execution_count": null,
   "metadata": {
    "ExecuteTime": {
     "start_time": "2021-03-25T06:44:28.544Z"
    }
   },
   "outputs": [],
   "source": [
    "df_sexFemale = datacensus.query('sex == \"Female\"').copy()\n",
    "df_sexAbove50kFemale = df_sexFemale.query('income == \">50K\"').copy()\n",
    "len(df_sexAbove50kFemale.index) #count all rows"
   ]
  },
  {
   "cell_type": "code",
   "execution_count": null,
   "metadata": {
    "ExecuteTime": {
     "start_time": "2021-03-25T06:44:28.548Z"
    }
   },
   "outputs": [],
   "source": [
    "df_sexBelow50kFemale = df_sexFemale.query('income == \"<=50K\"').copy()\n",
    "len(df_sexBelow50kFemale.index) #count all rows"
   ]
  },
  {
   "cell_type": "code",
   "execution_count": null,
   "metadata": {
    "ExecuteTime": {
     "start_time": "2021-03-25T06:44:28.551Z"
    }
   },
   "outputs": [],
   "source": [
    "sns.countplot(data=df_sexFemale, x='income', palette='cool')"
   ]
  },
  {
   "cell_type": "code",
   "execution_count": null,
   "metadata": {
    "ExecuteTime": {
     "start_time": "2021-03-25T06:44:28.555Z"
    }
   },
   "outputs": [],
   "source": [
    "y = [len(df_sexBelow50kFemale.index), len(df_sexAbove50kFemale.index)]\n",
    "mylabels = [\"<=50K\", \">50K\"]\n",
    "myexplode = [0.2, 0]\n",
    "\n",
    "fig1, ax1 = plt.subplots()\n",
    "ax1.pie(y, explode=myexplode, labels=mylabels, autopct='%1.1f%%', startangle=90)\n",
    "ax1.axis('equal')\n",
    "plt.show()"
   ]
  },
  {
   "cell_type": "markdown",
   "metadata": {},
   "source": [
    "### Male"
   ]
  },
  {
   "cell_type": "code",
   "execution_count": null,
   "metadata": {
    "ExecuteTime": {
     "start_time": "2021-03-25T06:44:28.561Z"
    }
   },
   "outputs": [],
   "source": [
    "df_sexMale = datacensus.query('sex == \"Male\"').copy()\n",
    "df_sexAbove50kMale = df_sexMale.query('income == \">50K\"').copy()\n",
    "len(df_sexAbove50kMale.index) #count all rows"
   ]
  },
  {
   "cell_type": "code",
   "execution_count": null,
   "metadata": {
    "ExecuteTime": {
     "start_time": "2021-03-25T06:44:28.565Z"
    }
   },
   "outputs": [],
   "source": [
    "df_sexBelow50kMale = df_sexMale.query('income == \"<=50K\"').copy()\n",
    "len(df_sexBelow50kMale.index) #count all rows"
   ]
  },
  {
   "cell_type": "code",
   "execution_count": null,
   "metadata": {
    "ExecuteTime": {
     "start_time": "2021-03-25T06:44:28.569Z"
    }
   },
   "outputs": [],
   "source": [
    "sns.countplot(data=df_sexMale, x='income', palette='cool')"
   ]
  },
  {
   "cell_type": "code",
   "execution_count": null,
   "metadata": {
    "ExecuteTime": {
     "start_time": "2021-03-25T06:44:28.573Z"
    }
   },
   "outputs": [],
   "source": [
    "y = [len(df_sexBelow50kMale.index), len(df_sexAbove50kMale.index)]\n",
    "mylabels = [\"<=50K\", \">50K\"]\n",
    "myexplode = [0.2, 0]\n",
    "\n",
    "fig1, ax1 = plt.subplots()\n",
    "ax1.pie(y, explode=myexplode, labels=mylabels, autopct='%1.1f%%', startangle=90)\n",
    "ax1.axis('equal')\n",
    "plt.show()"
   ]
  },
  {
   "cell_type": "markdown",
   "metadata": {},
   "source": [
    "### Female vs. Male"
   ]
  },
  {
   "cell_type": "code",
   "execution_count": null,
   "metadata": {
    "ExecuteTime": {
     "start_time": "2021-03-25T06:44:28.578Z"
    }
   },
   "outputs": [],
   "source": [
    "y = [len(df_sexAbove50kFemale.index), len(df_sexAbove50kMale.index)]\n",
    "mylabels = [\">50K Female\", \">50K Male\"]\n",
    "myexplode = [0.2, 0]\n",
    "\n",
    "fig1, ax1 = plt.subplots()\n",
    "ax1.pie(y, explode=myexplode, labels=mylabels, autopct='%1.1f%%', startangle=90)\n",
    "ax1.axis('equal')\n",
    "plt.show()"
   ]
  },
  {
   "cell_type": "markdown",
   "metadata": {},
   "source": [
    "Berdasarkan analisis ini income ><span>&#36;</span>50k yang dihasilkan oleh gender pria lebih besar dibandingkan wanita, dimana persentase wanita yang menghasilkan ><span>&#36;</span>50k adalah sebesar 10.5% sedangkan pria 29.4%. Jika dibandingkan keduanya penghasilan wanita yang di atas <span>&#36;</span>50k terdapat sebanyak 15.1% sedangkan pria 84.9%.\n",
    "\n",
    "\n",
    "Sumber: https://www.cnbcindonesia.com/news/20190424154951-4-68602/sri-mulyani-gaji-perempuan-23-lebih-rendah-dibanding-pria\n",
    "\n",
    "Menurut sumber ini Sri Mulyani pernah mengatakan bahwa perbedaan gaji antara wanita dengan pria berbeda 23% dimana wanita menerima gaji lebih rendah dibandingkan dengan pria"
   ]
  },
  {
   "cell_type": "markdown",
   "metadata": {},
   "source": [
    "## Income Bachelors"
   ]
  },
  {
   "cell_type": "code",
   "execution_count": null,
   "metadata": {
    "ExecuteTime": {
     "start_time": "2021-03-25T06:44:28.585Z"
    }
   },
   "outputs": [],
   "source": [
    "# bachelors income >50k\n",
    "eduAbove50k = datacensus.query('income == \">50K\"').copy()\n",
    "bachelorAbove50k = eduAbove50k.query('education == \"Bachelors\"').copy()\n",
    "\n",
    "# bachelors income <=50k\n",
    "eduBelow50k = datacensus.query('income == \"<=50K\"').copy()\n",
    "bachelorBelow50k = eduBelow50k.query('education == \"Bachelors\"').copy()"
   ]
  },
  {
   "cell_type": "code",
   "execution_count": null,
   "metadata": {
    "ExecuteTime": {
     "start_time": "2021-03-25T06:44:28.589Z"
    }
   },
   "outputs": [],
   "source": [
    "y = [len(bachelorBelow50k.index), len(bachelorAbove50k.index)]\n",
    "mylabels = [\"<=$50K\", \">$50K\"]\n",
    "myexplode = [0.2, 0]\n",
    "\n",
    "fig1, ax1 = plt.subplots()\n",
    "ax1.pie(y, explode=myexplode, labels=mylabels, autopct='%1.1f%%', startangle=90)\n",
    "ax1.axis('equal')\n",
    "plt.show()"
   ]
  },
  {
   "cell_type": "markdown",
   "metadata": {},
   "source": [
    "Insight: berdasarkan pie chart di atas pendapatan sarjana yang <=<span>&#36;</span>50K ada sebesar 60.3% sedangkan ><span>&#36;</span>50K sebesar 39.7%. Pendapatan seseorang tidak hanya ditentukan berdasarkan seberapa banyak gelar yang didapatkan, tetapi ada faktor lain yang menyebabkan pendapatan seseorang ><span>&#36;</span>50K diantaranya pengalaman seseorang bekerja."
   ]
  },
  {
   "cell_type": "markdown",
   "metadata": {},
   "source": [
    "# Conditional Probabilities"
   ]
  },
  {
   "cell_type": "markdown",
   "metadata": {},
   "source": [
    "fnlwgt merupakan representasi jumlah sebenarnya dari hasil sensus. Artinya, jika dalam sebuah row sebagai berikut: "
   ]
  },
  {
   "cell_type": "code",
   "execution_count": null,
   "metadata": {
    "ExecuteTime": {
     "start_time": "2021-03-25T06:44:28.597Z"
    }
   },
   "outputs": [],
   "source": [
    "datacensus.head(1)"
   ]
  },
  {
   "cell_type": "markdown",
   "metadata": {},
   "source": [
    "Artinya, jumlah orang yang berumur 62 tahun dengan pekerjaannya sebagai Adm-clerical dan tingkat pendidikan terakhirnya bachelors, ada sebanyak 159908 orang."
   ]
  },
  {
   "cell_type": "markdown",
   "metadata": {},
   "source": [
    "## P(Sales | HS-grad)"
   ]
  },
  {
   "cell_type": "markdown",
   "metadata": {},
   "source": [
    "Untuk dapat menghitung conditional probability, maka kita perlu mengetahui jumlah orang yang sesungguhnya, yang diambil dari fitur fnlwgt. Contoh, untuk menghitung conditional probability seseorang adalah Sales jika diketahui tingkat edukasinya adalah HS-Grad, maka kita perlu menghitung jumlah seluruh orang yang merupakan Sales dan tingkatan HS-Grad, dibagi dengan seluruh orang yang berada di tingkatan HS-grad. "
   ]
  },
  {
   "cell_type": "code",
   "execution_count": null,
   "metadata": {
    "ExecuteTime": {
     "start_time": "2021-03-25T06:44:28.605Z"
    }
   },
   "outputs": [],
   "source": [
    "p_occupation = datacensus[(datacensus['occupation'] == \"Sales\") & (datacensus['education'] == \"HS-grad\")]\n",
    "sales_and_HS_grad_fnlwgt = datacensus[(datacensus['occupation'] == \"Sales\") & (datacensus['education'] == \"HS-grad\")]['fnlwgt'].sum()\n",
    "sales_and_HS_grad_fnlwgt"
   ]
  },
  {
   "cell_type": "code",
   "execution_count": null,
   "metadata": {
    "ExecuteTime": {
     "start_time": "2021-03-25T06:44:28.609Z"
    }
   },
   "outputs": [],
   "source": [
    "p_education = datacensus[datacensus['education'] == \"HS-grad\"]\n",
    "HS_grad_fnlwgt = datacensus[datacensus['education'] == \"HS-grad\"]['fnlwgt'].sum()\n",
    "HS_grad_fnlwgt"
   ]
  },
  {
   "cell_type": "code",
   "execution_count": null,
   "metadata": {
    "ExecuteTime": {
     "start_time": "2021-03-25T06:44:28.612Z"
    }
   },
   "outputs": [],
   "source": [
    "# P(Sales | HS-grad) = p(sales and HS-grad) / p(HS-grad)\n",
    "p_sales_hs_grad = (sales_and_HS_grad_fnlwgt / HS_grad_fnlwgt) * 100\n",
    "print(\"Peluang seseorang sebagai Sales jika diketahui tingkat pendidikan akhirnya HS-Grade adalah {:0.2f}%\".format(p_sales_hs_grad))"
   ]
  },
  {
   "cell_type": "markdown",
   "metadata": {},
   "source": [
    "## P(Federal Gov | Black)"
   ]
  },
  {
   "cell_type": "code",
   "execution_count": null,
   "metadata": {
    "ExecuteTime": {
     "start_time": "2021-03-25T06:44:28.618Z"
    }
   },
   "outputs": [],
   "source": [
    "p_federal_and_black = datacensus[(datacensus['workclass'] == \"Federal-gov\") & (datacensus['race'] == \"Black\")]\n",
    "federal_and_black_fnlwgt = datacensus[(datacensus['workclass'] == \"Federal-gov\") & (datacensus['race'] == \"Black\")]['fnlwgt'].sum()\n",
    "federal_and_black_fnlwgt"
   ]
  },
  {
   "cell_type": "code",
   "execution_count": null,
   "metadata": {
    "ExecuteTime": {
     "start_time": "2021-03-25T06:44:28.621Z"
    }
   },
   "outputs": [],
   "source": [
    "p_black = datacensus[datacensus['race'] == \"Black\"]\n",
    "black_fnlwgt = datacensus[datacensus['race'] == \"Black\"]['fnlwgt'].sum()\n",
    "black_fnlwgt"
   ]
  },
  {
   "cell_type": "code",
   "execution_count": null,
   "metadata": {
    "ExecuteTime": {
     "start_time": "2021-03-25T06:44:28.625Z"
    }
   },
   "outputs": [],
   "source": [
    "# P(Federal Gov | black) = p(federal gov and black) / p(black)\n",
    "p_federal_black = (federal_and_black_fnlwgt / black_fnlwgt) * 100\n",
    "print(\"Peluang seseorang Federal Goverment jika diketahui ras nya kulit hitam adalah {:0.2f}%\".format(p_federal_black))"
   ]
  },
  {
   "cell_type": "markdown",
   "metadata": {},
   "source": [
    "# Frequency Table"
   ]
  },
  {
   "cell_type": "code",
   "execution_count": null,
   "metadata": {
    "ExecuteTime": {
     "start_time": "2021-03-25T06:44:28.633Z"
    }
   },
   "outputs": [],
   "source": [
    "pd.crosstab(datacensus['occupation'], datacensus['education'])"
   ]
  }
 ],
 "metadata": {
  "kernelspec": {
   "display_name": "Python 3",
   "language": "python",
   "name": "python3"
  },
  "language_info": {
   "codemirror_mode": {
    "name": "ipython",
    "version": 3
   },
   "file_extension": ".py",
   "mimetype": "text/x-python",
   "name": "python",
   "nbconvert_exporter": "python",
   "pygments_lexer": "ipython3",
   "version": "3.8.3"
  },
  "varInspector": {
   "cols": {
    "lenName": 16,
    "lenType": 16,
    "lenVar": 40
   },
   "kernels_config": {
    "python": {
     "delete_cmd_postfix": "",
     "delete_cmd_prefix": "del ",
     "library": "var_list.py",
     "varRefreshCmd": "print(var_dic_list())"
    },
    "r": {
     "delete_cmd_postfix": ") ",
     "delete_cmd_prefix": "rm(",
     "library": "var_list.r",
     "varRefreshCmd": "cat(var_dic_list()) "
    }
   },
   "types_to_exclude": [
    "module",
    "function",
    "builtin_function_or_method",
    "instance",
    "_Feature"
   ],
   "window_display": false
  }
 },
 "nbformat": 4,
 "nbformat_minor": 4
}
